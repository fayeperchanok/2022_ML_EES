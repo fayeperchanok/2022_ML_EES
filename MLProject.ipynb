{
  "nbformat": 4,
  "nbformat_minor": 0,
  "metadata": {
    "colab": {
      "provenance": [],
      "authorship_tag": "ABX9TyPNvgMtCVE7TIlUTTQreBrD",
      "include_colab_link": true
    },
    "kernelspec": {
      "name": "python3",
      "display_name": "Python 3"
    },
    "language_info": {
      "name": "python"
    }
  },
  "cells": [
    {
      "cell_type": "markdown",
      "metadata": {
        "id": "view-in-github",
        "colab_type": "text"
      },
      "source": [
        "<a href=\"https://colab.research.google.com/github/fayeperchanok/2022_ML_EES/blob/main/MLProject.ipynb\" target=\"_parent\"><img src=\"https://colab.research.google.com/assets/colab-badge.svg\" alt=\"Open In Colab\"/></a>"
      ]
    },
    {
      "cell_type": "code",
      "source": [
        "#@title Run this cell to get the python environment set up!\n",
        "# Python ≥3.5 is required\n",
        "import sys\n",
        "assert sys.version_info >= (3, 5)\n",
        "\n",
        "# Is this notebook running on Colab or Kaggle?\n",
        "IS_COLAB = \"google.colab\" in sys.modules\n",
        "\n",
        "# Scikit-Learn ≥0.20 is required\n",
        "import sklearn\n",
        "assert sklearn.__version__ >= \"0.20\"\n",
        "\n",
        "# Common imports\n",
        "import numpy as np\n",
        "import os\n",
        "import pandas as pd\n",
        "import pooch\n",
        "\n",
        "#Data Visalization Import\n",
        "from google.colab import data_table\n",
        "\n",
        "\n",
        "# to make this notebook's output stable across runs\n",
        "rnd_seed = 42\n",
        "rnd_gen = np.random.default_rng(rnd_seed)\n",
        "\n",
        "# To plot pretty figures\n",
        "%matplotlib inline\n",
        "import matplotlib as mpl\n",
        "import matplotlib.pyplot as plt\n",
        "mpl.rc('axes', labelsize=14)\n",
        "mpl.rc('xtick', labelsize=12)\n",
        "mpl.rc('ytick', labelsize=12)\n",
        "\n",
        "# Where to save the figures\n",
        "PROJECT_ROOT_DIR = \".\"\n",
        "CHAPTER_ID = \"classification\"\n",
        "IMAGES_PATH = os.path.join(PROJECT_ROOT_DIR, \"images\", CHAPTER_ID)\n",
        "os.makedirs(IMAGES_PATH, exist_ok=True)\n",
        "\n",
        "def save_fig(fig_id, tight_layout=True, fig_extension=\"png\", resolution=300):\n",
        "    path = os.path.join(IMAGES_PATH, fig_id + \".\" + fig_extension)\n",
        "    print(\"Saving figure\", fig_id)\n",
        "    if tight_layout:\n",
        "        plt.tight_layout()\n",
        "    plt.savefig(path, format=fig_extension, dpi=resolution)"
      ],
      "metadata": {
        "id": "qyU-IqPN4vvU"
      },
      "execution_count": null,
      "outputs": []
    },
    {
      "cell_type": "code",
      "execution_count": null,
      "metadata": {
        "colab": {
          "base_uri": "https://localhost:8080/",
          "height": 73
        },
        "id": "g8109Nnc3pjj",
        "outputId": "b87fbb20-fe43-43e4-a9da-5b9d8226bee8"
      },
      "outputs": [
        {
          "output_type": "display_data",
          "data": {
            "text/plain": [
              "<IPython.core.display.HTML object>"
            ],
            "text/html": [
              "\n",
              "     <input type=\"file\" id=\"files-aadc52da-b39b-4cc7-9f08-2e33af9f50ba\" name=\"files[]\" multiple disabled\n",
              "        style=\"border:none\" />\n",
              "     <output id=\"result-aadc52da-b39b-4cc7-9f08-2e33af9f50ba\">\n",
              "      Upload widget is only available when the cell has been executed in the\n",
              "      current browser session. Please rerun this cell to enable.\n",
              "      </output>\n",
              "      <script>// Copyright 2017 Google LLC\n",
              "//\n",
              "// Licensed under the Apache License, Version 2.0 (the \"License\");\n",
              "// you may not use this file except in compliance with the License.\n",
              "// You may obtain a copy of the License at\n",
              "//\n",
              "//      http://www.apache.org/licenses/LICENSE-2.0\n",
              "//\n",
              "// Unless required by applicable law or agreed to in writing, software\n",
              "// distributed under the License is distributed on an \"AS IS\" BASIS,\n",
              "// WITHOUT WARRANTIES OR CONDITIONS OF ANY KIND, either express or implied.\n",
              "// See the License for the specific language governing permissions and\n",
              "// limitations under the License.\n",
              "\n",
              "/**\n",
              " * @fileoverview Helpers for google.colab Python module.\n",
              " */\n",
              "(function(scope) {\n",
              "function span(text, styleAttributes = {}) {\n",
              "  const element = document.createElement('span');\n",
              "  element.textContent = text;\n",
              "  for (const key of Object.keys(styleAttributes)) {\n",
              "    element.style[key] = styleAttributes[key];\n",
              "  }\n",
              "  return element;\n",
              "}\n",
              "\n",
              "// Max number of bytes which will be uploaded at a time.\n",
              "const MAX_PAYLOAD_SIZE = 100 * 1024;\n",
              "\n",
              "function _uploadFiles(inputId, outputId) {\n",
              "  const steps = uploadFilesStep(inputId, outputId);\n",
              "  const outputElement = document.getElementById(outputId);\n",
              "  // Cache steps on the outputElement to make it available for the next call\n",
              "  // to uploadFilesContinue from Python.\n",
              "  outputElement.steps = steps;\n",
              "\n",
              "  return _uploadFilesContinue(outputId);\n",
              "}\n",
              "\n",
              "// This is roughly an async generator (not supported in the browser yet),\n",
              "// where there are multiple asynchronous steps and the Python side is going\n",
              "// to poll for completion of each step.\n",
              "// This uses a Promise to block the python side on completion of each step,\n",
              "// then passes the result of the previous step as the input to the next step.\n",
              "function _uploadFilesContinue(outputId) {\n",
              "  const outputElement = document.getElementById(outputId);\n",
              "  const steps = outputElement.steps;\n",
              "\n",
              "  const next = steps.next(outputElement.lastPromiseValue);\n",
              "  return Promise.resolve(next.value.promise).then((value) => {\n",
              "    // Cache the last promise value to make it available to the next\n",
              "    // step of the generator.\n",
              "    outputElement.lastPromiseValue = value;\n",
              "    return next.value.response;\n",
              "  });\n",
              "}\n",
              "\n",
              "/**\n",
              " * Generator function which is called between each async step of the upload\n",
              " * process.\n",
              " * @param {string} inputId Element ID of the input file picker element.\n",
              " * @param {string} outputId Element ID of the output display.\n",
              " * @return {!Iterable<!Object>} Iterable of next steps.\n",
              " */\n",
              "function* uploadFilesStep(inputId, outputId) {\n",
              "  const inputElement = document.getElementById(inputId);\n",
              "  inputElement.disabled = false;\n",
              "\n",
              "  const outputElement = document.getElementById(outputId);\n",
              "  outputElement.innerHTML = '';\n",
              "\n",
              "  const pickedPromise = new Promise((resolve) => {\n",
              "    inputElement.addEventListener('change', (e) => {\n",
              "      resolve(e.target.files);\n",
              "    });\n",
              "  });\n",
              "\n",
              "  const cancel = document.createElement('button');\n",
              "  inputElement.parentElement.appendChild(cancel);\n",
              "  cancel.textContent = 'Cancel upload';\n",
              "  const cancelPromise = new Promise((resolve) => {\n",
              "    cancel.onclick = () => {\n",
              "      resolve(null);\n",
              "    };\n",
              "  });\n",
              "\n",
              "  // Wait for the user to pick the files.\n",
              "  const files = yield {\n",
              "    promise: Promise.race([pickedPromise, cancelPromise]),\n",
              "    response: {\n",
              "      action: 'starting',\n",
              "    }\n",
              "  };\n",
              "\n",
              "  cancel.remove();\n",
              "\n",
              "  // Disable the input element since further picks are not allowed.\n",
              "  inputElement.disabled = true;\n",
              "\n",
              "  if (!files) {\n",
              "    return {\n",
              "      response: {\n",
              "        action: 'complete',\n",
              "      }\n",
              "    };\n",
              "  }\n",
              "\n",
              "  for (const file of files) {\n",
              "    const li = document.createElement('li');\n",
              "    li.append(span(file.name, {fontWeight: 'bold'}));\n",
              "    li.append(span(\n",
              "        `(${file.type || 'n/a'}) - ${file.size} bytes, ` +\n",
              "        `last modified: ${\n",
              "            file.lastModifiedDate ? file.lastModifiedDate.toLocaleDateString() :\n",
              "                                    'n/a'} - `));\n",
              "    const percent = span('0% done');\n",
              "    li.appendChild(percent);\n",
              "\n",
              "    outputElement.appendChild(li);\n",
              "\n",
              "    const fileDataPromise = new Promise((resolve) => {\n",
              "      const reader = new FileReader();\n",
              "      reader.onload = (e) => {\n",
              "        resolve(e.target.result);\n",
              "      };\n",
              "      reader.readAsArrayBuffer(file);\n",
              "    });\n",
              "    // Wait for the data to be ready.\n",
              "    let fileData = yield {\n",
              "      promise: fileDataPromise,\n",
              "      response: {\n",
              "        action: 'continue',\n",
              "      }\n",
              "    };\n",
              "\n",
              "    // Use a chunked sending to avoid message size limits. See b/62115660.\n",
              "    let position = 0;\n",
              "    do {\n",
              "      const length = Math.min(fileData.byteLength - position, MAX_PAYLOAD_SIZE);\n",
              "      const chunk = new Uint8Array(fileData, position, length);\n",
              "      position += length;\n",
              "\n",
              "      const base64 = btoa(String.fromCharCode.apply(null, chunk));\n",
              "      yield {\n",
              "        response: {\n",
              "          action: 'append',\n",
              "          file: file.name,\n",
              "          data: base64,\n",
              "        },\n",
              "      };\n",
              "\n",
              "      let percentDone = fileData.byteLength === 0 ?\n",
              "          100 :\n",
              "          Math.round((position / fileData.byteLength) * 100);\n",
              "      percent.textContent = `${percentDone}% done`;\n",
              "\n",
              "    } while (position < fileData.byteLength);\n",
              "  }\n",
              "\n",
              "  // All done.\n",
              "  yield {\n",
              "    response: {\n",
              "      action: 'complete',\n",
              "    }\n",
              "  };\n",
              "}\n",
              "\n",
              "scope.google = scope.google || {};\n",
              "scope.google.colab = scope.google.colab || {};\n",
              "scope.google.colab._files = {\n",
              "  _uploadFiles,\n",
              "  _uploadFilesContinue,\n",
              "};\n",
              "})(self);\n",
              "</script> "
            ]
          },
          "metadata": {}
        },
        {
          "output_type": "stream",
          "name": "stdout",
          "text": [
            "Saving Watson_Q_1949_2021.csv to Watson_Q_1949_2021.csv\n"
          ]
        }
      ],
      "source": [
        "from google.colab import files\n",
        "uploaded = files.upload()"
      ]
    },
    {
      "cell_type": "code",
      "source": [
        "import pandas as pd\n",
        "import numpy as np\n",
        "\n",
        "%matplotlib inline\n",
        "import matplotlib as mpl\n",
        "import matplotlib.pyplot as plt\n",
        "mpl.rc('axes', labelsize=14)\n",
        "mpl.rc('xtick', labelsize=12)\n",
        "mpl.rc('ytick', labelsize=12)\n"
      ],
      "metadata": {
        "id": "cr3p8gIE6_LM"
      },
      "execution_count": null,
      "outputs": []
    },
    {
      "cell_type": "code",
      "source": [
        "#I'm using regression for my project\n",
        "df = pd.read_csv(\"Watson_Q_1949_2021.csv\")\n",
        "df['Discharge_(km3)'].replace(-999.00,np.NaN)\n",
        "#df.replace(-999.00, np.nan)\n",
        "#df.replace(np.NaN, 0)\n",
        "print (df)"
      ],
      "metadata": {
        "colab": {
          "base_uri": "https://localhost:8080/"
        },
        "id": "INVvIlJF-t1B",
        "outputId": "af68377c-de41-4723-bf4c-eee832c18caa"
      },
      "execution_count": null,
      "outputs": [
        {
          "output_type": "stream",
          "name": "stdout",
          "text": [
            "    Year  Discharge_(km3)  Uncertainty_(km3)  Data_origin\n",
            "0   1949             4.14               1.16            3\n",
            "1   1950             4.42               1.18            3\n",
            "2   1951          -999.00            -999.00            0\n",
            "3   1952             4.57               1.20            3\n",
            "4   1953             5.02               1.24            3\n",
            "..   ...              ...                ...          ...\n",
            "68  2017             4.28               0.65            1\n",
            "69  2018             3.76               0.66            1\n",
            "70  2019             8.33               1.37            1\n",
            "71  2020             5.36               0.83            1\n",
            "72  2021             5.48               0.86            1\n",
            "\n",
            "[73 rows x 4 columns]\n"
          ]
        }
      ]
    },
    {
      "cell_type": "code",
      "source": [
        "aaaa = np.asarray(df['Discharge_(km3)'])\n",
        "aaaa[aaaa==-999.] = np.nan"
      ],
      "metadata": {
        "id": "HrGPxh0442CX"
      },
      "execution_count": null,
      "outputs": []
    },
    {
      "cell_type": "code",
      "source": [
        "aaaa"
      ],
      "metadata": {
        "colab": {
          "base_uri": "https://localhost:8080/"
        },
        "id": "WXecYoP25Psi",
        "outputId": "13592df4-f959-4832-a656-d411b0798b40"
      },
      "execution_count": null,
      "outputs": [
        {
          "output_type": "execute_result",
          "data": {
            "text/plain": [
              "array([ 4.14,  4.42,   nan,  4.57,  5.02,  3.49,  2.94,  3.35,  5.49,\n",
              "        5.09,  4.49,  6.48,  4.27,  4.98,  3.31,  3.08,  4.43,  3.68,\n",
              "        2.24,  7.12,  3.76,  2.4 ,   nan,   nan,   nan,  7.6 ,  5.77,\n",
              "        3.98,  4.89,  4.35,  2.76,  5.25,  4.29,  3.43,  2.22,  3.77,\n",
              "        5.11,  4.01,  5.22,  4.64,  4.89,  5.6 ,  5.85,  2.41,  4.28,\n",
              "        3.75,  5.88,  2.98,  4.72,  5.94,  5.52,  5.69,  5.26,  4.69,\n",
              "        7.96,  5.96,  5.17,  5.4 ,  7.51,  5.46,  4.85, 11.24,  7.77,\n",
              "       10.73,  4.32,  6.76,  3.79,  8.21,  4.28,  3.76,  8.33,  5.36,\n",
              "        5.48])"
            ]
          },
          "metadata": {},
          "execution_count": 8
        }
      ]
    },
    {
      "cell_type": "code",
      "source": [
        "df['Discharge'] = aaaa\n",
        "print(df)\n",
        "df_new = df.dropna()\n",
        "df.dropna()"
      ],
      "metadata": {
        "colab": {
          "base_uri": "https://localhost:8080/",
          "height": 667
        },
        "id": "T_HP75zh5TMF",
        "outputId": "90a775d5-3a13-4eb9-edb3-6a56443ce622"
      },
      "execution_count": null,
      "outputs": [
        {
          "output_type": "stream",
          "name": "stdout",
          "text": [
            "    Year  Discharge_(km3)  Uncertainty_(km3)  Data_origin  Discharge\n",
            "0   1949             4.14               1.16            3       4.14\n",
            "1   1950             4.42               1.18            3       4.42\n",
            "2   1951              NaN            -999.00            0        NaN\n",
            "3   1952             4.57               1.20            3       4.57\n",
            "4   1953             5.02               1.24            3       5.02\n",
            "..   ...              ...                ...          ...        ...\n",
            "68  2017             4.28               0.65            1       4.28\n",
            "69  2018             3.76               0.66            1       3.76\n",
            "70  2019             8.33               1.37            1       8.33\n",
            "71  2020             5.36               0.83            1       5.36\n",
            "72  2021             5.48               0.86            1       5.48\n",
            "\n",
            "[73 rows x 5 columns]\n"
          ]
        },
        {
          "output_type": "execute_result",
          "data": {
            "text/plain": [
              "    Year  Discharge_(km3)  Uncertainty_(km3)  Data_origin  Discharge\n",
              "0   1949             4.14               1.16            3       4.14\n",
              "1   1950             4.42               1.18            3       4.42\n",
              "3   1952             4.57               1.20            3       4.57\n",
              "4   1953             5.02               1.24            3       5.02\n",
              "5   1954             3.49               1.10            3       3.49\n",
              "..   ...              ...                ...          ...        ...\n",
              "68  2017             4.28               0.65            1       4.28\n",
              "69  2018             3.76               0.66            1       3.76\n",
              "70  2019             8.33               1.37            1       8.33\n",
              "71  2020             5.36               0.83            1       5.36\n",
              "72  2021             5.48               0.86            1       5.48\n",
              "\n",
              "[69 rows x 5 columns]"
            ],
            "text/html": [
              "\n",
              "  <div id=\"df-e2bea3cc-1947-4e49-9b75-c5053e400d81\">\n",
              "    <div class=\"colab-df-container\">\n",
              "      <div>\n",
              "<style scoped>\n",
              "    .dataframe tbody tr th:only-of-type {\n",
              "        vertical-align: middle;\n",
              "    }\n",
              "\n",
              "    .dataframe tbody tr th {\n",
              "        vertical-align: top;\n",
              "    }\n",
              "\n",
              "    .dataframe thead th {\n",
              "        text-align: right;\n",
              "    }\n",
              "</style>\n",
              "<table border=\"1\" class=\"dataframe\">\n",
              "  <thead>\n",
              "    <tr style=\"text-align: right;\">\n",
              "      <th></th>\n",
              "      <th>Year</th>\n",
              "      <th>Discharge_(km3)</th>\n",
              "      <th>Uncertainty_(km3)</th>\n",
              "      <th>Data_origin</th>\n",
              "      <th>Discharge</th>\n",
              "    </tr>\n",
              "  </thead>\n",
              "  <tbody>\n",
              "    <tr>\n",
              "      <th>0</th>\n",
              "      <td>1949</td>\n",
              "      <td>4.14</td>\n",
              "      <td>1.16</td>\n",
              "      <td>3</td>\n",
              "      <td>4.14</td>\n",
              "    </tr>\n",
              "    <tr>\n",
              "      <th>1</th>\n",
              "      <td>1950</td>\n",
              "      <td>4.42</td>\n",
              "      <td>1.18</td>\n",
              "      <td>3</td>\n",
              "      <td>4.42</td>\n",
              "    </tr>\n",
              "    <tr>\n",
              "      <th>3</th>\n",
              "      <td>1952</td>\n",
              "      <td>4.57</td>\n",
              "      <td>1.20</td>\n",
              "      <td>3</td>\n",
              "      <td>4.57</td>\n",
              "    </tr>\n",
              "    <tr>\n",
              "      <th>4</th>\n",
              "      <td>1953</td>\n",
              "      <td>5.02</td>\n",
              "      <td>1.24</td>\n",
              "      <td>3</td>\n",
              "      <td>5.02</td>\n",
              "    </tr>\n",
              "    <tr>\n",
              "      <th>5</th>\n",
              "      <td>1954</td>\n",
              "      <td>3.49</td>\n",
              "      <td>1.10</td>\n",
              "      <td>3</td>\n",
              "      <td>3.49</td>\n",
              "    </tr>\n",
              "    <tr>\n",
              "      <th>...</th>\n",
              "      <td>...</td>\n",
              "      <td>...</td>\n",
              "      <td>...</td>\n",
              "      <td>...</td>\n",
              "      <td>...</td>\n",
              "    </tr>\n",
              "    <tr>\n",
              "      <th>68</th>\n",
              "      <td>2017</td>\n",
              "      <td>4.28</td>\n",
              "      <td>0.65</td>\n",
              "      <td>1</td>\n",
              "      <td>4.28</td>\n",
              "    </tr>\n",
              "    <tr>\n",
              "      <th>69</th>\n",
              "      <td>2018</td>\n",
              "      <td>3.76</td>\n",
              "      <td>0.66</td>\n",
              "      <td>1</td>\n",
              "      <td>3.76</td>\n",
              "    </tr>\n",
              "    <tr>\n",
              "      <th>70</th>\n",
              "      <td>2019</td>\n",
              "      <td>8.33</td>\n",
              "      <td>1.37</td>\n",
              "      <td>1</td>\n",
              "      <td>8.33</td>\n",
              "    </tr>\n",
              "    <tr>\n",
              "      <th>71</th>\n",
              "      <td>2020</td>\n",
              "      <td>5.36</td>\n",
              "      <td>0.83</td>\n",
              "      <td>1</td>\n",
              "      <td>5.36</td>\n",
              "    </tr>\n",
              "    <tr>\n",
              "      <th>72</th>\n",
              "      <td>2021</td>\n",
              "      <td>5.48</td>\n",
              "      <td>0.86</td>\n",
              "      <td>1</td>\n",
              "      <td>5.48</td>\n",
              "    </tr>\n",
              "  </tbody>\n",
              "</table>\n",
              "<p>69 rows × 5 columns</p>\n",
              "</div>\n",
              "      <button class=\"colab-df-convert\" onclick=\"convertToInteractive('df-e2bea3cc-1947-4e49-9b75-c5053e400d81')\"\n",
              "              title=\"Convert this dataframe to an interactive table.\"\n",
              "              style=\"display:none;\">\n",
              "        \n",
              "  <svg xmlns=\"http://www.w3.org/2000/svg\" height=\"24px\"viewBox=\"0 0 24 24\"\n",
              "       width=\"24px\">\n",
              "    <path d=\"M0 0h24v24H0V0z\" fill=\"none\"/>\n",
              "    <path d=\"M18.56 5.44l.94 2.06.94-2.06 2.06-.94-2.06-.94-.94-2.06-.94 2.06-2.06.94zm-11 1L8.5 8.5l.94-2.06 2.06-.94-2.06-.94L8.5 2.5l-.94 2.06-2.06.94zm10 10l.94 2.06.94-2.06 2.06-.94-2.06-.94-.94-2.06-.94 2.06-2.06.94z\"/><path d=\"M17.41 7.96l-1.37-1.37c-.4-.4-.92-.59-1.43-.59-.52 0-1.04.2-1.43.59L10.3 9.45l-7.72 7.72c-.78.78-.78 2.05 0 2.83L4 21.41c.39.39.9.59 1.41.59.51 0 1.02-.2 1.41-.59l7.78-7.78 2.81-2.81c.8-.78.8-2.07 0-2.86zM5.41 20L4 18.59l7.72-7.72 1.47 1.35L5.41 20z\"/>\n",
              "  </svg>\n",
              "      </button>\n",
              "      \n",
              "  <style>\n",
              "    .colab-df-container {\n",
              "      display:flex;\n",
              "      flex-wrap:wrap;\n",
              "      gap: 12px;\n",
              "    }\n",
              "\n",
              "    .colab-df-convert {\n",
              "      background-color: #E8F0FE;\n",
              "      border: none;\n",
              "      border-radius: 50%;\n",
              "      cursor: pointer;\n",
              "      display: none;\n",
              "      fill: #1967D2;\n",
              "      height: 32px;\n",
              "      padding: 0 0 0 0;\n",
              "      width: 32px;\n",
              "    }\n",
              "\n",
              "    .colab-df-convert:hover {\n",
              "      background-color: #E2EBFA;\n",
              "      box-shadow: 0px 1px 2px rgba(60, 64, 67, 0.3), 0px 1px 3px 1px rgba(60, 64, 67, 0.15);\n",
              "      fill: #174EA6;\n",
              "    }\n",
              "\n",
              "    [theme=dark] .colab-df-convert {\n",
              "      background-color: #3B4455;\n",
              "      fill: #D2E3FC;\n",
              "    }\n",
              "\n",
              "    [theme=dark] .colab-df-convert:hover {\n",
              "      background-color: #434B5C;\n",
              "      box-shadow: 0px 1px 3px 1px rgba(0, 0, 0, 0.15);\n",
              "      filter: drop-shadow(0px 1px 2px rgba(0, 0, 0, 0.3));\n",
              "      fill: #FFFFFF;\n",
              "    }\n",
              "  </style>\n",
              "\n",
              "      <script>\n",
              "        const buttonEl =\n",
              "          document.querySelector('#df-e2bea3cc-1947-4e49-9b75-c5053e400d81 button.colab-df-convert');\n",
              "        buttonEl.style.display =\n",
              "          google.colab.kernel.accessAllowed ? 'block' : 'none';\n",
              "\n",
              "        async function convertToInteractive(key) {\n",
              "          const element = document.querySelector('#df-e2bea3cc-1947-4e49-9b75-c5053e400d81');\n",
              "          const dataTable =\n",
              "            await google.colab.kernel.invokeFunction('convertToInteractive',\n",
              "                                                     [key], {});\n",
              "          if (!dataTable) return;\n",
              "\n",
              "          const docLinkHtml = 'Like what you see? Visit the ' +\n",
              "            '<a target=\"_blank\" href=https://colab.research.google.com/notebooks/data_table.ipynb>data table notebook</a>'\n",
              "            + ' to learn more about interactive tables.';\n",
              "          element.innerHTML = '';\n",
              "          dataTable['output_type'] = 'display_data';\n",
              "          await google.colab.output.renderOutput(dataTable, element);\n",
              "          const docLink = document.createElement('div');\n",
              "          docLink.innerHTML = docLinkHtml;\n",
              "          element.appendChild(docLink);\n",
              "        }\n",
              "      </script>\n",
              "    </div>\n",
              "  </div>\n",
              "  "
            ]
          },
          "metadata": {},
          "execution_count": 9
        }
      ]
    },
    {
      "cell_type": "code",
      "source": [
        "print (df_new[\"Discharge\"])"
      ],
      "metadata": {
        "colab": {
          "base_uri": "https://localhost:8080/"
        },
        "id": "NN0d8opY7Tb9",
        "outputId": "91f12387-e7aa-4f59-88e4-b62839b9aa7d"
      },
      "execution_count": null,
      "outputs": [
        {
          "output_type": "stream",
          "name": "stdout",
          "text": [
            "0     4.14\n",
            "1     4.42\n",
            "3     4.57\n",
            "4     5.02\n",
            "5     3.49\n",
            "      ... \n",
            "68    4.28\n",
            "69    3.76\n",
            "70    8.33\n",
            "71    5.36\n",
            "72    5.48\n",
            "Name: Discharge, Length: 69, dtype: float64\n"
          ]
        }
      ]
    },
    {
      "cell_type": "code",
      "source": [
        "from sklearn.model_selection import train_test_split"
      ],
      "metadata": {
        "id": "xWoFynu21VFm"
      },
      "execution_count": null,
      "outputs": []
    },
    {
      "cell_type": "code",
      "source": [
        "from sklearn.neighbors import KNeighborsClassifier\n",
        "from sklearn.model_selection import GridSearchCV"
      ],
      "metadata": {
        "id": "qiTHUJlH7UJ9"
      },
      "execution_count": null,
      "outputs": []
    },
    {
      "cell_type": "code",
      "source": [
        "param_grid = {'weights':['uniform', 'distance'], # 1st hyperparameter and the values it can take\n",
        "              'n_neighbors':[3,4,5,6] # 2nd hyperparameter and the values it can take\n",
        "              }"
      ],
      "metadata": {
        "id": "AVhtXvhW7wfF"
      },
      "execution_count": null,
      "outputs": []
    },
    {
      "cell_type": "code",
      "source": [
        "from sklearn.linear_model import LinearRegression"
      ],
      "metadata": {
        "id": "4O1p8PdaFtXk"
      },
      "execution_count": null,
      "outputs": []
    },
    {
      "cell_type": "code",
      "source": [
        "# Instantiate the model\n",
        "lin_reg = LinearRegression()"
      ],
      "metadata": {
        "id": "G4kDpbHzFufD"
      },
      "execution_count": null,
      "outputs": []
    },
    {
      "cell_type": "code",
      "source": [
        "discharge = df_new['Discharge'].values.reshape(-1,1)\n",
        "year = df_new['Year'].to_numpy().ravel()\n",
        "lin_reg.fit(year.reshape(-1, 1), discharge.reshape(-1,1))"
      ],
      "metadata": {
        "id": "m5cT22c3Fxo5",
        "colab": {
          "base_uri": "https://localhost:8080/"
        },
        "outputId": "36362eda-1530-43ec-a042-bb3ac6b13cb0"
      },
      "execution_count": null,
      "outputs": [
        {
          "output_type": "execute_result",
          "data": {
            "text/plain": [
              "LinearRegression()"
            ]
          },
          "metadata": {},
          "execution_count": 16
        }
      ]
    },
    {
      "cell_type": "code",
      "source": [
        "fig, ax = plt.subplots()\n",
        "\n",
        "fig.suptitle('Discharge over the Years')\n",
        "ax.set_xlabel(\"Year\")\n",
        "ax.set_ylabel(\"Discharge (km3)\")\n",
        "\n",
        "ax.scatter(year, # X values\n",
        "           discharge, # y values\n",
        "           color='b', # Color\n",
        "           s=100, # Marker size\n",
        "           marker= '2') # Marker style\n",
        "\n",
        "\n",
        "reg_x = np.linspace(1950, # Start\n",
        "                        2040, # Stop\n",
        "                        100   # Number of Points\n",
        "                        ).reshape(-1,1) # Reshape to row=sample, col=feature\n",
        "\n",
        "# Let's produce a set of predictions from our linear space array.  ***THIS IS WHERE THE PROBELM IS**\n",
        "reg_y = lin_reg.predict(reg_x)\n",
        "# Let's plot the regression line using reg_x and reg_y. Set the color to red and\n",
        "# the linewidth to 1.5\n",
        "ax.plot(reg_x, reg_y,# X\n",
        "       color='r', # Color\n",
        "       linewidth=1.5) # Linewidth\n",
        "\n",
        "ax.autoscale(axis='x', tight=True)\n",
        "\n",
        "\n",
        "\n"
      ],
      "metadata": {
        "colab": {
          "base_uri": "https://localhost:8080/",
          "height": 315
        },
        "id": "ODIHGW0FGdAO",
        "outputId": "d55de06d-1120-489b-a906-54c23398b89c"
      },
      "execution_count": null,
      "outputs": [
        {
          "output_type": "display_data",
          "data": {
            "text/plain": [
              "<Figure size 432x288 with 1 Axes>"
            ],
            "image/png": "[encoded data removed]"
          },
          "metadata": {
            "needs_background": "light"
          }
        }
      ]
    },
    {
      "cell_type": "code",
      "source": [
        "df_new[\"Year\"]-2000\n",
        "np.abs(df_new[\"Year\"]-2000)\n",
        "np.argmin(abs(df_new[\"Year\"]-2000))   #this is the index of the value closest to 2000 within the column (47)\n",
        "df_new.iloc[47]"
      ],
      "metadata": {
        "colab": {
          "base_uri": "https://localhost:8080/"
        },
        "id": "m0f5v7a8848u",
        "outputId": "22701a93-f432-44b9-fca3-aff79b93906f"
      },
      "execution_count": null,
      "outputs": [
        {
          "output_type": "execute_result",
          "data": {
            "text/plain": [
              "Year                 2000.00\n",
              "Discharge_(km3)         5.69\n",
              "Uncertainty_(km3)       1.07\n",
              "Data_origin             2.00\n",
              "Discharge               5.69\n",
              "Name: 51, dtype: float64"
            ]
          },
          "metadata": {},
          "execution_count": 18
        }
      ]
    },
    {
      "cell_type": "code",
      "source": [
        "train_X = np.asarray(df_new[\"Year\"])[0:47]\n",
        "train_y = np.asarray(df_new[\"Discharge\"])[0:47]\n",
        "print(train_X, train_y)\n",
        "test_X = np.asarray(df_new[\"Year\"])[47:]\n",
        "test_y = np.asarray(df_new[\"Discharge\"])[47:]\n",
        "print(test_X,test_y)"
      ],
      "metadata": {
        "colab": {
          "base_uri": "https://localhost:8080/"
        },
        "id": "HDlGYojN-G5n",
        "outputId": "ca336dda-3b2c-4fff-a455-226a26c01d86"
      },
      "execution_count": null,
      "outputs": [
        {
          "output_type": "stream",
          "name": "stdout",
          "text": [
            "[1949 1950 1952 1953 1954 1955 1956 1957 1958 1959 1960 1961 1962 1963\n",
            " 1964 1965 1966 1967 1968 1969 1970 1974 1975 1976 1977 1978 1979 1980\n",
            " 1981 1982 1983 1984 1985 1986 1987 1988 1989 1990 1991 1992 1993 1994\n",
            " 1995 1996 1997 1998 1999] [4.14 4.42 4.57 5.02 3.49 2.94 3.35 5.49 5.09 4.49 6.48 4.27 4.98 3.31\n",
            " 3.08 4.43 3.68 2.24 7.12 3.76 2.4  7.6  5.77 3.98 4.89 4.35 2.76 5.25\n",
            " 4.29 3.43 2.22 3.77 5.11 4.01 5.22 4.64 4.89 5.6  5.85 2.41 4.28 3.75\n",
            " 5.88 2.98 4.72 5.94 5.52]\n",
            "[2000 2001 2002 2003 2004 2005 2006 2007 2008 2009 2010 2011 2012 2013\n",
            " 2014 2015 2016 2017 2018 2019 2020 2021] [ 5.69  5.26  4.69  7.96  5.96  5.17  5.4   7.51  5.46  4.85 11.24  7.77\n",
            " 10.73  4.32  6.76  3.79  8.21  4.28  3.76  8.33  5.36  5.48]\n"
          ]
        }
      ]
    },
    {
      "cell_type": "code",
      "source": [
        "model = sklearn.linear_model.LinearRegression()\n",
        "model.fit(train_X, train_y)\n",
        "\n",
        "print(r2_score(train_y, model.predict(train_X)), r2_score(test_y, model.predict(test_X)))\n",
        "print(mean_squared_error(train_y, model.predict(train_X)), mean_squared_error(test_y, model.predict(test_X)))"
      ],
      "metadata": {
        "colab": {
          "base_uri": "https://localhost:8080/",
          "height": 485
        },
        "id": "C16EftBb8ZFa",
        "outputId": "7df06fb5-e03c-4660-ebfe-7254167f0d47"
      },
      "execution_count": null,
      "outputs": [
        {
          "output_type": "error",
          "ename": "ValueError",
          "evalue": "ignored",
          "traceback": [
            "\u001b[0;31m---------------------------------------------------------------------------\u001b[0m",
            "\u001b[0;31mValueError\u001b[0m                                Traceback (most recent call last)",
            "\u001b[0;32m<ipython-input-51-2b3a1620386c>\u001b[0m in \u001b[0;36m<module>\u001b[0;34m\u001b[0m\n\u001b[1;32m      1\u001b[0m \u001b[0mmodel\u001b[0m \u001b[0;34m=\u001b[0m \u001b[0msklearn\u001b[0m\u001b[0;34m.\u001b[0m\u001b[0mlinear_model\u001b[0m\u001b[0;34m.\u001b[0m\u001b[0mLinearRegression\u001b[0m\u001b[0;34m(\u001b[0m\u001b[0;34m)\u001b[0m\u001b[0;34m\u001b[0m\u001b[0;34m\u001b[0m\u001b[0m\n\u001b[0;32m----> 2\u001b[0;31m \u001b[0mmodel\u001b[0m\u001b[0;34m.\u001b[0m\u001b[0mfit\u001b[0m\u001b[0;34m(\u001b[0m\u001b[0mtrain_X\u001b[0m\u001b[0;34m,\u001b[0m \u001b[0mtrain_y\u001b[0m\u001b[0;34m)\u001b[0m\u001b[0;34m\u001b[0m\u001b[0;34m\u001b[0m\u001b[0m\n\u001b[0m\u001b[1;32m      3\u001b[0m \u001b[0;34m\u001b[0m\u001b[0m\n\u001b[1;32m      4\u001b[0m \u001b[0mprint\u001b[0m\u001b[0;34m(\u001b[0m\u001b[0mr2_score\u001b[0m\u001b[0;34m(\u001b[0m\u001b[0mtrain_y\u001b[0m\u001b[0;34m,\u001b[0m \u001b[0mmodel\u001b[0m\u001b[0;34m.\u001b[0m\u001b[0mpredict\u001b[0m\u001b[0;34m(\u001b[0m\u001b[0mtrain_X\u001b[0m\u001b[0;34m)\u001b[0m\u001b[0;34m)\u001b[0m\u001b[0;34m,\u001b[0m \u001b[0mr2_score\u001b[0m\u001b[0;34m(\u001b[0m\u001b[0mtest_y\u001b[0m\u001b[0;34m,\u001b[0m \u001b[0mmodel\u001b[0m\u001b[0;34m.\u001b[0m\u001b[0mpredict\u001b[0m\u001b[0;34m(\u001b[0m\u001b[0mtest_X\u001b[0m\u001b[0;34m)\u001b[0m\u001b[0;34m)\u001b[0m\u001b[0;34m)\u001b[0m\u001b[0;34m\u001b[0m\u001b[0;34m\u001b[0m\u001b[0m\n\u001b[1;32m      5\u001b[0m \u001b[0mprint\u001b[0m\u001b[0;34m(\u001b[0m\u001b[0mmean_squared_error\u001b[0m\u001b[0;34m(\u001b[0m\u001b[0mtrain_y\u001b[0m\u001b[0;34m,\u001b[0m \u001b[0mmodel\u001b[0m\u001b[0;34m.\u001b[0m\u001b[0mpredict\u001b[0m\u001b[0;34m(\u001b[0m\u001b[0mtrain_X\u001b[0m\u001b[0;34m)\u001b[0m\u001b[0;34m)\u001b[0m\u001b[0;34m,\u001b[0m \u001b[0mmean_squared_error\u001b[0m\u001b[0;34m(\u001b[0m\u001b[0mtest_y\u001b[0m\u001b[0;34m,\u001b[0m \u001b[0mmodel\u001b[0m\u001b[0;34m.\u001b[0m\u001b[0mpredict\u001b[0m\u001b[0;34m(\u001b[0m\u001b[0mtest_X\u001b[0m\u001b[0;34m)\u001b[0m\u001b[0;34m)\u001b[0m\u001b[0;34m)\u001b[0m\u001b[0;34m\u001b[0m\u001b[0;34m\u001b[0m\u001b[0m\n",
            "\u001b[0;32m/usr/local/lib/python3.8/dist-packages/sklearn/linear_model/_base.py\u001b[0m in \u001b[0;36mfit\u001b[0;34m(self, X, y, sample_weight)\u001b[0m\n\u001b[1;32m    660\u001b[0m         \u001b[0maccept_sparse\u001b[0m \u001b[0;34m=\u001b[0m \u001b[0;32mFalse\u001b[0m \u001b[0;32mif\u001b[0m \u001b[0mself\u001b[0m\u001b[0;34m.\u001b[0m\u001b[0mpositive\u001b[0m \u001b[0;32melse\u001b[0m \u001b[0;34m[\u001b[0m\u001b[0;34m\"csr\"\u001b[0m\u001b[0;34m,\u001b[0m \u001b[0;34m\"csc\"\u001b[0m\u001b[0;34m,\u001b[0m \u001b[0;34m\"coo\"\u001b[0m\u001b[0;34m]\u001b[0m\u001b[0;34m\u001b[0m\u001b[0;34m\u001b[0m\u001b[0m\n\u001b[1;32m    661\u001b[0m \u001b[0;34m\u001b[0m\u001b[0m\n\u001b[0;32m--> 662\u001b[0;31m         X, y = self._validate_data(\n\u001b[0m\u001b[1;32m    663\u001b[0m             \u001b[0mX\u001b[0m\u001b[0;34m,\u001b[0m \u001b[0my\u001b[0m\u001b[0;34m,\u001b[0m \u001b[0maccept_sparse\u001b[0m\u001b[0;34m=\u001b[0m\u001b[0maccept_sparse\u001b[0m\u001b[0;34m,\u001b[0m \u001b[0my_numeric\u001b[0m\u001b[0;34m=\u001b[0m\u001b[0;32mTrue\u001b[0m\u001b[0;34m,\u001b[0m \u001b[0mmulti_output\u001b[0m\u001b[0;34m=\u001b[0m\u001b[0;32mTrue\u001b[0m\u001b[0;34m\u001b[0m\u001b[0;34m\u001b[0m\u001b[0m\n\u001b[1;32m    664\u001b[0m         )\n",
            "\u001b[0;32m/usr/local/lib/python3.8/dist-packages/sklearn/base.py\u001b[0m in \u001b[0;36m_validate_data\u001b[0;34m(self, X, y, reset, validate_separately, **check_params)\u001b[0m\n\u001b[1;32m    579\u001b[0m                 \u001b[0my\u001b[0m \u001b[0;34m=\u001b[0m \u001b[0mcheck_array\u001b[0m\u001b[0;34m(\u001b[0m\u001b[0my\u001b[0m\u001b[0;34m,\u001b[0m \u001b[0;34m**\u001b[0m\u001b[0mcheck_y_params\u001b[0m\u001b[0;34m)\u001b[0m\u001b[0;34m\u001b[0m\u001b[0;34m\u001b[0m\u001b[0m\n\u001b[1;32m    580\u001b[0m             \u001b[0;32melse\u001b[0m\u001b[0;34m:\u001b[0m\u001b[0;34m\u001b[0m\u001b[0;34m\u001b[0m\u001b[0m\n\u001b[0;32m--> 581\u001b[0;31m                 \u001b[0mX\u001b[0m\u001b[0;34m,\u001b[0m \u001b[0my\u001b[0m \u001b[0;34m=\u001b[0m \u001b[0mcheck_X_y\u001b[0m\u001b[0;34m(\u001b[0m\u001b[0mX\u001b[0m\u001b[0;34m,\u001b[0m \u001b[0my\u001b[0m\u001b[0;34m,\u001b[0m \u001b[0;34m**\u001b[0m\u001b[0mcheck_params\u001b[0m\u001b[0;34m)\u001b[0m\u001b[0;34m\u001b[0m\u001b[0;34m\u001b[0m\u001b[0m\n\u001b[0m\u001b[1;32m    582\u001b[0m             \u001b[0mout\u001b[0m \u001b[0;34m=\u001b[0m \u001b[0mX\u001b[0m\u001b[0;34m,\u001b[0m \u001b[0my\u001b[0m\u001b[0;34m\u001b[0m\u001b[0;34m\u001b[0m\u001b[0m\n\u001b[1;32m    583\u001b[0m \u001b[0;34m\u001b[0m\u001b[0m\n",
            "\u001b[0;32m/usr/local/lib/python3.8/dist-packages/sklearn/utils/validation.py\u001b[0m in \u001b[0;36mcheck_X_y\u001b[0;34m(X, y, accept_sparse, accept_large_sparse, dtype, order, copy, force_all_finite, ensure_2d, allow_nd, multi_output, ensure_min_samples, ensure_min_features, y_numeric, estimator)\u001b[0m\n\u001b[1;32m    962\u001b[0m         \u001b[0;32mraise\u001b[0m \u001b[0mValueError\u001b[0m\u001b[0;34m(\u001b[0m\u001b[0;34m\"y cannot be None\"\u001b[0m\u001b[0;34m)\u001b[0m\u001b[0;34m\u001b[0m\u001b[0;34m\u001b[0m\u001b[0m\n\u001b[1;32m    963\u001b[0m \u001b[0;34m\u001b[0m\u001b[0m\n\u001b[0;32m--> 964\u001b[0;31m     X = check_array(\n\u001b[0m\u001b[1;32m    965\u001b[0m         \u001b[0mX\u001b[0m\u001b[0;34m,\u001b[0m\u001b[0;34m\u001b[0m\u001b[0;34m\u001b[0m\u001b[0m\n\u001b[1;32m    966\u001b[0m         \u001b[0maccept_sparse\u001b[0m\u001b[0;34m=\u001b[0m\u001b[0maccept_sparse\u001b[0m\u001b[0;34m,\u001b[0m\u001b[0;34m\u001b[0m\u001b[0;34m\u001b[0m\u001b[0m\n",
            "\u001b[0;32m/usr/local/lib/python3.8/dist-packages/sklearn/utils/validation.py\u001b[0m in \u001b[0;36mcheck_array\u001b[0;34m(array, accept_sparse, accept_large_sparse, dtype, order, copy, force_all_finite, ensure_2d, allow_nd, ensure_min_samples, ensure_min_features, estimator)\u001b[0m\n\u001b[1;32m    767\u001b[0m             \u001b[0;31m# If input is 1D raise error\u001b[0m\u001b[0;34m\u001b[0m\u001b[0;34m\u001b[0m\u001b[0;34m\u001b[0m\u001b[0m\n\u001b[1;32m    768\u001b[0m             \u001b[0;32mif\u001b[0m \u001b[0marray\u001b[0m\u001b[0;34m.\u001b[0m\u001b[0mndim\u001b[0m \u001b[0;34m==\u001b[0m \u001b[0;36m1\u001b[0m\u001b[0;34m:\u001b[0m\u001b[0;34m\u001b[0m\u001b[0;34m\u001b[0m\u001b[0m\n\u001b[0;32m--> 769\u001b[0;31m                 raise ValueError(\n\u001b[0m\u001b[1;32m    770\u001b[0m                     \u001b[0;34m\"Expected 2D array, got 1D array instead:\\narray={}.\\n\"\u001b[0m\u001b[0;34m\u001b[0m\u001b[0;34m\u001b[0m\u001b[0m\n\u001b[1;32m    771\u001b[0m                     \u001b[0;34m\"Reshape your data either using array.reshape(-1, 1) if \"\u001b[0m\u001b[0;34m\u001b[0m\u001b[0;34m\u001b[0m\u001b[0m\n",
            "\u001b[0;31mValueError\u001b[0m: Expected 2D array, got 1D array instead:\narray=[1949 1950 1952 1953 1954 1955 1956 1957 1958 1959 1960 1961 1962 1963\n 1964 1965 1966 1967 1968 1969 1970 1974 1975 1976 1977 1978 1979 1980\n 1981 1982 1983 1984 1985 1986 1987 1988 1989 1990 1991 1992 1993 1994\n 1995 1996 1997 1998 1999].\nReshape your data either using array.reshape(-1, 1) if your data has a single feature or array.reshape(1, -1) if it contains a single sample."
          ]
        }
      ]
    },
    {
      "cell_type": "code",
      "source": [
        "lin_reg_train = LinearRegression()\n",
        "lin_reg_train.fit(train_X.reshape(-1, 1), train_y.reshape(-1,1))"
      ],
      "metadata": {
        "colab": {
          "base_uri": "https://localhost:8080/"
        },
        "id": "yk2Q9xWW_jER",
        "outputId": "c42039b1-95fe-4a81-e9b8-8a76cea6fbe0"
      },
      "execution_count": null,
      "outputs": [
        {
          "output_type": "execute_result",
          "data": {
            "text/plain": [
              "LinearRegression()"
            ]
          },
          "metadata": {},
          "execution_count": 35
        }
      ]
    },
    {
      "cell_type": "code",
      "source": [
        "fig, ax = plt.subplots()\n",
        "\n",
        "fig.suptitle('Discharge over the Years')\n",
        "ax.set_xlabel(\"Year\")\n",
        "ax.set_ylabel(\"Discharge (km3)\")\n",
        "\n",
        "ax.scatter(train_X, # X values\n",
        "           train_y, # y values\n",
        "           color='m', # Color\n",
        "           s=100, # Marker size\n",
        "           marker= '2') # Marker style\n",
        "\n",
        "\n",
        "reg_x = np.linspace(2020, # Start\n",
        "                        2030, # Stop\n",
        "                        100   # Number of Points\n",
        "                        ).reshape(-1,1) # Reshape to row=sample, col=feature\n",
        "\n",
        "# Let's produce a set of predictions from our linear space array.  \n",
        "reg_y = lin_reg_train.predict(reg_x)\n",
        "# Let's plot the regression line using reg_x and reg_y. Set the color to red and\n",
        "# the linewidth to 1.5\n",
        "ax.plot(reg_x, reg_y,# X\n",
        "       color='y', # Color\n",
        "       linewidth=1.5) # Linewidth\n",
        "\n",
        "ax.autoscale(axis='x', tight=True)"
      ],
      "metadata": {
        "colab": {
          "base_uri": "https://localhost:8080/",
          "height": 315
        },
        "id": "_3YQz8xc_qTE",
        "outputId": "c50c7491-ce37-44e4-a136-46e911fd6532"
      },
      "execution_count": null,
      "outputs": [
        {
          "output_type": "display_data",
          "data": {
            "text/plain": [
              "<Figure size 432x288 with 1 Axes>"
            ],
            "image/png": "[encoded data removed]"
          },
          "metadata": {
            "needs_background": "light"
          }
        }
      ]
    },
    {
      "cell_type": "code",
      "source": [
        "fig, ax = plt.subplots()\n",
        "\n",
        "fig.suptitle('Discharge over the Years')\n",
        "ax.set_xlabel(\"Year\")\n",
        "ax.set_ylabel(\"Discharge (km3)\")\n",
        "\n",
        "ax.scatter(test_X, # X values\n",
        "           test_y, # y values\n",
        "           color='m', # Color\n",
        "           s=100, # Marker size\n",
        "           marker= '2') # Marker style\n",
        "\n",
        "\n",
        "\n",
        "\n",
        "# Let's produce a set of predictions from our linear space array.  \n",
        "reg_y = lin_reg_train.predict(test_X.reshape(-1,1))\n",
        "# Let's plot the regression line using reg_x and reg_y. Set the color to red and\n",
        "# the linewidth to 1.5\n",
        "ax.plot(test_X, reg_y,# X\n",
        "       color='y', # Color\n",
        "       linewidth=1.5) # Linewidth\n",
        "\n",
        "ax.autoscale(axis='x', tight=True)"
      ],
      "metadata": {
        "colab": {
          "base_uri": "https://localhost:8080/",
          "height": 315
        },
        "id": "BFzilwa_BBCm",
        "outputId": "6fbfd363-5a41-4bec-c3ef-b9b24b233ff8"
      },
      "execution_count": null,
      "outputs": [
        {
          "output_type": "display_data",
          "data": {
            "text/plain": [
              "<Figure size 432x288 with 1 Axes>"
            ],
            "image/png": "[encoded data removed]"
          },
          "metadata": {
            "needs_background": "light"
          }
        }
      ]
    },
    {
      "cell_type": "code",
      "source": [
        "import pandas as pd\n",
        "import os\n",
        "import numpy as np\n",
        "from sklearn import preprocessing\n",
        "from sklearn.preprocessing import PolynomialFeatures\n",
        "from sklearn.model_selection import train_test_split\n",
        "from sklearn.metrics import r2_score, mean_squared_error\n",
        "import tifffile \n",
        "import matplotlib.pyplot as plt\n"
      ],
      "metadata": {
        "id": "7npYfOwl2JbU"
      },
      "execution_count": null,
      "outputs": []
    },
    {
      "cell_type": "code",
      "source": [
        "from google.colab import files\n",
        "uploaded = files.upload()"
      ],
      "metadata": {
        "colab": {
          "base_uri": "https://localhost:8080/",
          "height": 73
        },
        "id": "-rdM218fCXf-",
        "outputId": "fca46da7-c372-4e95-9c7e-11ad8065966f"
      },
      "execution_count": null,
      "outputs": [
        {
          "output_type": "display_data",
          "data": {
            "text/plain": [
              "<IPython.core.display.HTML object>"
            ],
            "text/html": [
              "\n",
              "     <input type=\"file\" id=\"files-dbee0d8c-4a51-42fb-ba27-7e46b9d21fe8\" name=\"files[]\" multiple disabled\n",
              "        style=\"border:none\" />\n",
              "     <output id=\"result-dbee0d8c-4a51-42fb-ba27-7e46b9d21fe8\">\n",
              "      Upload widget is only available when the cell has been executed in the\n",
              "      current browser session. Please rerun this cell to enable.\n",
              "      </output>\n",
              "      <script>// Copyright 2017 Google LLC\n",
              "//\n",
              "// Licensed under the Apache License, Version 2.0 (the \"License\");\n",
              "// you may not use this file except in compliance with the License.\n",
              "// You may obtain a copy of the License at\n",
              "//\n",
              "//      http://www.apache.org/licenses/LICENSE-2.0\n",
              "//\n",
              "// Unless required by applicable law or agreed to in writing, software\n",
              "// distributed under the License is distributed on an \"AS IS\" BASIS,\n",
              "// WITHOUT WARRANTIES OR CONDITIONS OF ANY KIND, either express or implied.\n",
              "// See the License for the specific language governing permissions and\n",
              "// limitations under the License.\n",
              "\n",
              "/**\n",
              " * @fileoverview Helpers for google.colab Python module.\n",
              " */\n",
              "(function(scope) {\n",
              "function span(text, styleAttributes = {}) {\n",
              "  const element = document.createElement('span');\n",
              "  element.textContent = text;\n",
              "  for (const key of Object.keys(styleAttributes)) {\n",
              "    element.style[key] = styleAttributes[key];\n",
              "  }\n",
              "  return element;\n",
              "}\n",
              "\n",
              "// Max number of bytes which will be uploaded at a time.\n",
              "const MAX_PAYLOAD_SIZE = 100 * 1024;\n",
              "\n",
              "function _uploadFiles(inputId, outputId) {\n",
              "  const steps = uploadFilesStep(inputId, outputId);\n",
              "  const outputElement = document.getElementById(outputId);\n",
              "  // Cache steps on the outputElement to make it available for the next call\n",
              "  // to uploadFilesContinue from Python.\n",
              "  outputElement.steps = steps;\n",
              "\n",
              "  return _uploadFilesContinue(outputId);\n",
              "}\n",
              "\n",
              "// This is roughly an async generator (not supported in the browser yet),\n",
              "// where there are multiple asynchronous steps and the Python side is going\n",
              "// to poll for completion of each step.\n",
              "// This uses a Promise to block the python side on completion of each step,\n",
              "// then passes the result of the previous step as the input to the next step.\n",
              "function _uploadFilesContinue(outputId) {\n",
              "  const outputElement = document.getElementById(outputId);\n",
              "  const steps = outputElement.steps;\n",
              "\n",
              "  const next = steps.next(outputElement.lastPromiseValue);\n",
              "  return Promise.resolve(next.value.promise).then((value) => {\n",
              "    // Cache the last promise value to make it available to the next\n",
              "    // step of the generator.\n",
              "    outputElement.lastPromiseValue = value;\n",
              "    return next.value.response;\n",
              "  });\n",
              "}\n",
              "\n",
              "/**\n",
              " * Generator function which is called between each async step of the upload\n",
              " * process.\n",
              " * @param {string} inputId Element ID of the input file picker element.\n",
              " * @param {string} outputId Element ID of the output display.\n",
              " * @return {!Iterable<!Object>} Iterable of next steps.\n",
              " */\n",
              "function* uploadFilesStep(inputId, outputId) {\n",
              "  const inputElement = document.getElementById(inputId);\n",
              "  inputElement.disabled = false;\n",
              "\n",
              "  const outputElement = document.getElementById(outputId);\n",
              "  outputElement.innerHTML = '';\n",
              "\n",
              "  const pickedPromise = new Promise((resolve) => {\n",
              "    inputElement.addEventListener('change', (e) => {\n",
              "      resolve(e.target.files);\n",
              "    });\n",
              "  });\n",
              "\n",
              "  const cancel = document.createElement('button');\n",
              "  inputElement.parentElement.appendChild(cancel);\n",
              "  cancel.textContent = 'Cancel upload';\n",
              "  const cancelPromise = new Promise((resolve) => {\n",
              "    cancel.onclick = () => {\n",
              "      resolve(null);\n",
              "    };\n",
              "  });\n",
              "\n",
              "  // Wait for the user to pick the files.\n",
              "  const files = yield {\n",
              "    promise: Promise.race([pickedPromise, cancelPromise]),\n",
              "    response: {\n",
              "      action: 'starting',\n",
              "    }\n",
              "  };\n",
              "\n",
              "  cancel.remove();\n",
              "\n",
              "  // Disable the input element since further picks are not allowed.\n",
              "  inputElement.disabled = true;\n",
              "\n",
              "  if (!files) {\n",
              "    return {\n",
              "      response: {\n",
              "        action: 'complete',\n",
              "      }\n",
              "    };\n",
              "  }\n",
              "\n",
              "  for (const file of files) {\n",
              "    const li = document.createElement('li');\n",
              "    li.append(span(file.name, {fontWeight: 'bold'}));\n",
              "    li.append(span(\n",
              "        `(${file.type || 'n/a'}) - ${file.size} bytes, ` +\n",
              "        `last modified: ${\n",
              "            file.lastModifiedDate ? file.lastModifiedDate.toLocaleDateString() :\n",
              "                                    'n/a'} - `));\n",
              "    const percent = span('0% done');\n",
              "    li.appendChild(percent);\n",
              "\n",
              "    outputElement.appendChild(li);\n",
              "\n",
              "    const fileDataPromise = new Promise((resolve) => {\n",
              "      const reader = new FileReader();\n",
              "      reader.onload = (e) => {\n",
              "        resolve(e.target.result);\n",
              "      };\n",
              "      reader.readAsArrayBuffer(file);\n",
              "    });\n",
              "    // Wait for the data to be ready.\n",
              "    let fileData = yield {\n",
              "      promise: fileDataPromise,\n",
              "      response: {\n",
              "        action: 'continue',\n",
              "      }\n",
              "    };\n",
              "\n",
              "    // Use a chunked sending to avoid message size limits. See b/62115660.\n",
              "    let position = 0;\n",
              "    do {\n",
              "      const length = Math.min(fileData.byteLength - position, MAX_PAYLOAD_SIZE);\n",
              "      const chunk = new Uint8Array(fileData, position, length);\n",
              "      position += length;\n",
              "\n",
              "      const base64 = btoa(String.fromCharCode.apply(null, chunk));\n",
              "      yield {\n",
              "        response: {\n",
              "          action: 'append',\n",
              "          file: file.name,\n",
              "          data: base64,\n",
              "        },\n",
              "      };\n",
              "\n",
              "      let percentDone = fileData.byteLength === 0 ?\n",
              "          100 :\n",
              "          Math.round((position / fileData.byteLength) * 100);\n",
              "      percent.textContent = `${percentDone}% done`;\n",
              "\n",
              "    } while (position < fileData.byteLength);\n",
              "  }\n",
              "\n",
              "  // All done.\n",
              "  yield {\n",
              "    response: {\n",
              "      action: 'complete',\n",
              "    }\n",
              "  };\n",
              "}\n",
              "\n",
              "scope.google = scope.google || {};\n",
              "scope.google.colab = scope.google.colab || {};\n",
              "scope.google.colab._files = {\n",
              "  _uploadFiles,\n",
              "  _uploadFilesContinue,\n",
              "};\n",
              "})(self);\n",
              "</script> "
            ]
          },
          "metadata": {}
        },
        {
          "output_type": "stream",
          "name": "stdout",
          "text": [
            "Saving Watson River discharge (2006-2021) daily_1.csv to Watson River discharge (2006-2021) daily_1.csv\n"
          ]
        }
      ]
    },
    {
      "cell_type": "code",
      "source": [
        "#I'm using regression for my project\n",
        "df = pd.read_csv(\"Watson River discharge (2006-2021) daily_1.csv\")\n",
        "#df['Discharge_(km3)'].replace(-999.00,np.NaN)\n",
        "#df.replace(-999.00, np.nan)\n",
        "#df.replace(np.NaN, 0)\n",
        "print (df)"
      ],
      "metadata": {
        "colab": {
          "base_uri": "https://localhost:8080/"
        },
        "id": "fcefkJqMCoqS",
        "outputId": "2c4f7b2f-d20d-48f5-c387-517dfc81e280"
      },
      "execution_count": null,
      "outputs": [
        {
          "output_type": "stream",
          "name": "stdout",
          "text": [
            "      Year  MonthOfYear  DayOfMonth  DayOfYear  DayOfCentury  \\\n",
            "0     2006            4          10        100          2292   \n",
            "1     2006            4          11        101          2293   \n",
            "2     2006            4          12        102          2294   \n",
            "3     2006            4          13        103          2295   \n",
            "4     2006            4          14        104          2296   \n",
            "...    ...          ...         ...        ...           ...   \n",
            "3211  2021           10          23        296          7967   \n",
            "3212  2021           10          24        297          7968   \n",
            "3213  2021           10          25        298          7969   \n",
            "3214  2021           10          26        299          7970   \n",
            "3215  2021           10          27        300          7971   \n",
            "\n",
            "      WaterFluxDiversOnly(m3/s)  Uncertainty(m3/s)  \\\n",
            "0                        -999.0             -999.0   \n",
            "1                        -999.0             -999.0   \n",
            "2                        -999.0             -999.0   \n",
            "3                        -999.0             -999.0   \n",
            "4                        -999.0             -999.0   \n",
            "...                         ...                ...   \n",
            "3211                     -999.0             -999.0   \n",
            "3212                     -999.0             -999.0   \n",
            "3213                     -999.0             -999.0   \n",
            "3214                     -999.0             -999.0   \n",
            "3215                     -999.0             -999.0   \n",
            "\n",
            "      WaterFluxDivers&Temperature(m3/s)  Uncertainty(m3/s).1  \\\n",
            "0                                   0.0                  0.0   \n",
            "1                                   0.0                  0.0   \n",
            "2                                   0.0                  0.0   \n",
            "3                                   0.0                  0.0   \n",
            "4                                   0.0                  0.0   \n",
            "...                                 ...                  ...   \n",
            "3211                                0.0                  0.0   \n",
            "3212                                0.0                  0.0   \n",
            "3213                                0.0                  0.0   \n",
            "3214                                0.0                  0.0   \n",
            "3215                                0.0                  0.0   \n",
            "\n",
            "      WaterFluxCumulative(km3)  Uncertainty(km3)  \n",
            "0                         0.00              0.00  \n",
            "1                         0.00              0.00  \n",
            "2                         0.00              0.00  \n",
            "3                         0.00              0.00  \n",
            "4                         0.00              0.00  \n",
            "...                        ...               ...  \n",
            "3211                      5.48              0.86  \n",
            "3212                      5.48              0.86  \n",
            "3213                      5.48              0.86  \n",
            "3214                      5.48              0.86  \n",
            "3215                      5.48              0.86  \n",
            "\n",
            "[3216 rows x 11 columns]\n"
          ]
        }
      ]
    },
    {
      "cell_type": "code",
      "source": [
        "print(df[\"WaterFluxDiversOnly(m3/s)\"])"
      ],
      "metadata": {
        "colab": {
          "base_uri": "https://localhost:8080/"
        },
        "id": "eLJAedRbC4yX",
        "outputId": "3e774a75-2398-4382-808a-86cde0e3ab05"
      },
      "execution_count": null,
      "outputs": [
        {
          "output_type": "stream",
          "name": "stdout",
          "text": [
            "0      -999.0\n",
            "1      -999.0\n",
            "2      -999.0\n",
            "3      -999.0\n",
            "4      -999.0\n",
            "        ...  \n",
            "3211   -999.0\n",
            "3212   -999.0\n",
            "3213   -999.0\n",
            "3214   -999.0\n",
            "3215   -999.0\n",
            "Name: WaterFluxDiversOnly(m3/s), Length: 3216, dtype: float64\n"
          ]
        }
      ]
    },
    {
      "cell_type": "code",
      "source": [
        "from sklearn.datasets import make_moons"
      ],
      "metadata": {
        "id": "SDdOBu6eeZHR"
      },
      "execution_count": null,
      "outputs": []
    },
    {
      "cell_type": "code",
      "source": [
        "Year, Discharge = make_moons(n_samples=10000, noise=0.4)"
      ],
      "metadata": {
        "id": "xwERat7wfYu3"
      },
      "execution_count": null,
      "outputs": []
    },
    {
      "cell_type": "code",
      "source": [
        "# Import the train_test_split function here.\n",
        "from sklearn.model_selection import train_test_split\n",
        "\n",
        "# Split the dataset into a training set and a test set\n",
        "# There will be four outputs in this function. 2 for X (train and test) and 2 for y (train and test)\n",
        "X_train,X_test,y_train,y_test = train_test_split(Year,Discharge, test_size=0.2, random_state=42)"
      ],
      "metadata": {
        "id": "-GTmAnFrfdyh"
      },
      "execution_count": null,
      "outputs": []
    },
    {
      "cell_type": "code",
      "source": [
        "model = sklearn.linear_model.LinearRegression()\n",
        "model.fit(X_train, y_train)\n",
        "\n",
        "print(r2_score(y_train, model.predict(X_train)), r2_score(y_test, model.predict(X_test)))\n",
        "print(mean_squared_error(y_train, model.predict(X_train)), mean_squared_error(y_test, model.predict(X_test)))"
      ],
      "metadata": {
        "colab": {
          "base_uri": "https://localhost:8080/"
        },
        "id": "fIk87hgc7r1y",
        "outputId": "ff42a485-ffcb-4393-9f70-4e534cfef97c"
      },
      "execution_count": null,
      "outputs": [
        {
          "output_type": "stream",
          "name": "stdout",
          "text": [
            "0.4843011686232088 0.5128813648545811\n",
            "0.1289245063993418 0.121776614294885\n"
          ]
        }
      ]
    },
    {
      "cell_type": "code",
      "source": [
        "# Scatter the moon data and don't forget to add a legend to your figure\n",
        "import numpy as np\n",
        "import matplotlib.pyplot as plt\n",
        "fig,ax = plt.subplots(1,3,figsize=(12,4))\n",
        "#########################################################################################################\n",
        "# (1) Plot the whole dataset with plt.scatter \n",
        "#########################################################################################################\n",
        "# The X and y indices of each data point can be obtained like this: X[:,0], X[:,1]\n",
        "# The scatter points should be coloured by y\n",
        "scatter = ax[0].scatter(Year[:,0], Year[:,1],s=10,c='y',edgecolor='w',linewidths=0.5,alpha=0.5,cmap='RdBu')\n",
        "# Add legend to the upper right corner of the figure\n",
        "legend1 = plt.legend(*scatter.legend_elements(),loc='upper left', title=\"Classes\")\n",
        "ax[0].set_title('Discharge (km3)')\n",
        "ax[0].tick_params(axis='both', which='major', labelsize=11)\n",
        "ax[0].grid(alpha=0.2,ls='--',lw=1)\n",
        "\n",
        "#########################################################################################################\n",
        "# (2) Plot the training dataset with plt.scatter \n",
        "#########################################################################################################\n",
        "scatter_train = ax[1].scatter(X_train[:,0], X_train[:,1],s=10,c='r',edgecolor='w',linewidths=0.5,alpha=0.5,cmap='RdBu')\n",
        "ax[1].set_title('Training')\n",
        "ax[1].tick_params(axis='both', which='major', labelsize=11)\n",
        "ax[1].grid(alpha=0.2,ls='--',lw=1)\n",
        "\n",
        "#########################################################################################################\n",
        "# (2) Plot the test dataset with plt.scatter \n",
        "#########################################################################################################\n",
        "scatter_test = ax[2].scatter(X_test[:,0], X_test[:,1],s=10,c='b',edgecolor='w',linewidths=0.5,alpha=0.5,cmap='RdBu')\n",
        "ax[2].set_title('Test')\n",
        "ax[2].tick_params(axis='both', which='major', labelsize=11)\n",
        "ax[2].grid(alpha=0.2,ls='--',lw=1)\n",
        "\n",
        "plt.show()"
      ],
      "metadata": {
        "colab": {
          "base_uri": "https://localhost:8080/",
          "height": 316
        },
        "id": "o93_ouF8fqP1",
        "outputId": "a0930ae5-9e5c-438e-d957-a1cc01e957c7"
      },
      "execution_count": null,
      "outputs": [
        {
          "output_type": "stream",
          "name": "stderr",
          "text": [
            "/usr/local/lib/python3.8/dist-packages/matplotlib/collections.py:988: UserWarning: Collection without array used. Make sure to specify the values to be colormapped via the `c` argument.\n",
            "  warnings.warn(\"Collection without array used. Make sure to \"\n"
          ]
        },
        {
          "output_type": "display_data",
          "data": {
            "text/plain": [
              "<Figure size 864x288 with 3 Axes>"
            ],
            "image/png": "[encoded data removed]"
          },
          "metadata": {
            "needs_background": "light"
          }
        }
      ]
    },
    {
      "cell_type": "code",
      "source": [
        "# Import the necessary classes and functions\n",
        "from sklearn.model_selection import GridSearchCV\n",
        "from sklearn.tree import DecisionTreeClassifier"
      ],
      "metadata": {
        "id": "6pRV3F-6gDJd"
      },
      "execution_count": null,
      "outputs": []
    },
    {
      "cell_type": "code",
      "source": [
        "# Conduct the grid search to find good hyperparameter values \n",
        "# for your decision tree\n",
        "# For 'max_leaf_nodes', search between 2 and 120\n",
        "# For 'min_samples_split', search between 2 and 10\n",
        "\n",
        "##############################################################################################################################\n",
        "# 1. Define hyperparameter search grid\n",
        "##############################################################################################################################\n",
        "# In param_grid, define the hyperparameters you would like to test, and the ranges the hyperparameters should be in\n",
        "param_grid = {'max_leaf_nodes': np.linspace(2,120, dtype = int),'min_samples_split':[2,10]}\n",
        "\n",
        "#############################################################################################################################\n",
        "# 2. GridSearch\n",
        "##############################################################################################################################\n",
        "# Perform GridSearch on your DecisionTree (random_state=42 to ensure same result every time)\n",
        "# use cv=3, verbose=1 for GridSearchCV()\n",
        "gsc_tree = GridSearchCV(DecisionTreeClassifier(random_state=42),param_grid,cv=3, verbose=5)\n",
        "\n",
        "##############################################################################################################################\n",
        "# 3. Fit on training set\n",
        "##############################################################################################################################\n",
        "gsc_tree.fit(X_train,y_train)"
      ],
      "metadata": {
        "colab": {
          "base_uri": "https://localhost:8080/"
        },
        "id": "hPolu8HRgEsP",
        "outputId": "be72b0f0-cced-4c5b-b096-9d78d0672ac2"
      },
      "execution_count": null,
      "outputs": [
        {
          "output_type": "stream",
          "name": "stdout",
          "text": [
            "Fitting 3 folds for each of 100 candidates, totalling 300 fits\n",
            "[CV 1/3] END max_leaf_nodes=2, min_samples_split=2;, score=0.769 total time=   0.0s\n",
            "[CV 2/3] END max_leaf_nodes=2, min_samples_split=2;, score=0.767 total time=   0.0s\n",
            "[CV 3/3] END max_leaf_nodes=2, min_samples_split=2;, score=0.790 total time=   0.0s\n",
            "[CV 1/3] END max_leaf_nodes=2, min_samples_split=10;, score=0.769 total time=   0.0s\n",
            "[CV 2/3] END max_leaf_nodes=2, min_samples_split=10;, score=0.767 total time=   0.0s\n",
            "[CV 3/3] END max_leaf_nodes=2, min_samples_split=10;, score=0.790 total time=   0.0s\n",
            "[CV 1/3] END max_leaf_nodes=4, min_samples_split=2;, score=0.859 total time=   0.0s\n",
            "[CV 2/3] END max_leaf_nodes=4, min_samples_split=2;, score=0.844 total time=   0.0s\n",
            "[CV 3/3] END max_leaf_nodes=4, min_samples_split=2;, score=0.863 total time=   0.0s\n",
            "[CV 1/3] END max_leaf_nodes=4, min_samples_split=10;, score=0.859 total time=   0.0s\n",
            "[CV 2/3] END max_leaf_nodes=4, min_samples_split=10;, score=0.844 total time=   0.0s\n",
            "[CV 3/3] END max_leaf_nodes=4, min_samples_split=10;, score=0.863 total time=   0.0s\n",
            "[CV 1/3] END max_leaf_nodes=6, min_samples_split=2;, score=0.859 total time=   0.0s\n",
            "[CV 2/3] END max_leaf_nodes=6, min_samples_split=2;, score=0.844 total time=   0.0s\n",
            "[CV 3/3] END max_leaf_nodes=6, min_samples_split=2;, score=0.863 total time=   0.0s\n",
            "[CV 1/3] END max_leaf_nodes=6, min_samples_split=10;, score=0.859 total time=   0.0s\n",
            "[CV 2/3] END max_leaf_nodes=6, min_samples_split=10;, score=0.844 total time=   0.0s\n",
            "[CV 3/3] END max_leaf_nodes=6, min_samples_split=10;, score=0.863 total time=   0.0s\n",
            "[CV 1/3] END max_leaf_nodes=9, min_samples_split=2;, score=0.859 total time=   0.0s\n",
            "[CV 2/3] END max_leaf_nodes=9, min_samples_split=2;, score=0.844 total time=   0.0s\n",
            "[CV 3/3] END max_leaf_nodes=9, min_samples_split=2;, score=0.863 total time=   0.0s\n",
            "[CV 1/3] END max_leaf_nodes=9, min_samples_split=10;, score=0.859 total time=   0.0s\n",
            "[CV 2/3] END max_leaf_nodes=9, min_samples_split=10;, score=0.844 total time=   0.1s\n",
            "[CV 3/3] END max_leaf_nodes=9, min_samples_split=10;, score=0.863 total time=   0.0s\n",
            "[CV 1/3] END max_leaf_nodes=11, min_samples_split=2;, score=0.852 total time=   0.0s\n",
            "[CV 2/3] END max_leaf_nodes=11, min_samples_split=2;, score=0.844 total time=   0.0s\n",
            "[CV 3/3] END max_leaf_nodes=11, min_samples_split=2;, score=0.863 total time=   0.0s\n",
            "[CV 1/3] END max_leaf_nodes=11, min_samples_split=10;, score=0.852 total time=   0.0s\n",
            "[CV 2/3] END max_leaf_nodes=11, min_samples_split=10;, score=0.844 total time=   0.0s\n",
            "[CV 3/3] END max_leaf_nodes=11, min_samples_split=10;, score=0.863 total time=   0.1s\n",
            "[CV 1/3] END max_leaf_nodes=14, min_samples_split=2;, score=0.855 total time=   0.0s\n",
            "[CV 2/3] END max_leaf_nodes=14, min_samples_split=2;, score=0.846 total time=   0.0s\n",
            "[CV 3/3] END max_leaf_nodes=14, min_samples_split=2;, score=0.857 total time=   0.0s\n",
            "[CV 1/3] END max_leaf_nodes=14, min_samples_split=10;, score=0.855 total time=   0.0s\n",
            "[CV 2/3] END max_leaf_nodes=14, min_samples_split=10;, score=0.846 total time=   0.0s\n",
            "[CV 3/3] END max_leaf_nodes=14, min_samples_split=10;, score=0.857 total time=   0.0s\n",
            "[CV 1/3] END max_leaf_nodes=16, min_samples_split=2;, score=0.855 total time=   0.0s\n",
            "[CV 2/3] END max_leaf_nodes=16, min_samples_split=2;, score=0.846 total time=   0.0s\n",
            "[CV 3/3] END max_leaf_nodes=16, min_samples_split=2;, score=0.857 total time=   0.0s\n",
            "[CV 1/3] END max_leaf_nodes=16, min_samples_split=10;, score=0.855 total time=   0.0s\n",
            "[CV 2/3] END max_leaf_nodes=16, min_samples_split=10;, score=0.846 total time=   0.0s\n",
            "[CV 3/3] END max_leaf_nodes=16, min_samples_split=10;, score=0.857 total time=   0.0s\n",
            "[CV 1/3] END max_leaf_nodes=18, min_samples_split=2;, score=0.855 total time=   0.1s\n",
            "[CV 2/3] END max_leaf_nodes=18, min_samples_split=2;, score=0.844 total time=   0.1s\n",
            "[CV 3/3] END max_leaf_nodes=18, min_samples_split=2;, score=0.858 total time=   0.0s\n",
            "[CV 1/3] END max_leaf_nodes=18, min_samples_split=10;, score=0.855 total time=   0.0s\n",
            "[CV 2/3] END max_leaf_nodes=18, min_samples_split=10;, score=0.844 total time=   0.0s\n",
            "[CV 3/3] END max_leaf_nodes=18, min_samples_split=10;, score=0.858 total time=   0.0s\n",
            "[CV 1/3] END max_leaf_nodes=21, min_samples_split=2;, score=0.856 total time=   0.0s\n",
            "[CV 2/3] END max_leaf_nodes=21, min_samples_split=2;, score=0.843 total time=   0.0s\n",
            "[CV 3/3] END max_leaf_nodes=21, min_samples_split=2;, score=0.859 total time=   0.0s\n",
            "[CV 1/3] END max_leaf_nodes=21, min_samples_split=10;, score=0.856 total time=   0.0s\n",
            "[CV 2/3] END max_leaf_nodes=21, min_samples_split=10;, score=0.843 total time=   0.0s\n",
            "[CV 3/3] END max_leaf_nodes=21, min_samples_split=10;, score=0.859 total time=   0.1s\n",
            "[CV 1/3] END max_leaf_nodes=23, min_samples_split=2;, score=0.856 total time=   0.1s\n",
            "[CV 2/3] END max_leaf_nodes=23, min_samples_split=2;, score=0.842 total time=   0.0s\n",
            "[CV 3/3] END max_leaf_nodes=23, min_samples_split=2;, score=0.857 total time=   0.0s\n",
            "[CV 1/3] END max_leaf_nodes=23, min_samples_split=10;, score=0.856 total time=   0.1s\n",
            "[CV 2/3] END max_leaf_nodes=23, min_samples_split=10;, score=0.842 total time=   0.1s\n",
            "[CV 3/3] END max_leaf_nodes=23, min_samples_split=10;, score=0.857 total time=   0.0s\n",
            "[CV 1/3] END max_leaf_nodes=26, min_samples_split=2;, score=0.856 total time=   0.0s\n",
            "[CV 2/3] END max_leaf_nodes=26, min_samples_split=2;, score=0.841 total time=   0.1s\n",
            "[CV 3/3] END max_leaf_nodes=26, min_samples_split=2;, score=0.856 total time=   0.0s\n",
            "[CV 1/3] END max_leaf_nodes=26, min_samples_split=10;, score=0.856 total time=   0.1s\n",
            "[CV 2/3] END max_leaf_nodes=26, min_samples_split=10;, score=0.841 total time=   0.1s\n",
            "[CV 3/3] END max_leaf_nodes=26, min_samples_split=10;, score=0.856 total time=   0.0s\n",
            "[CV 1/3] END max_leaf_nodes=28, min_samples_split=2;, score=0.856 total time=   0.0s\n",
            "[CV 2/3] END max_leaf_nodes=28, min_samples_split=2;, score=0.841 total time=   0.0s\n",
            "[CV 3/3] END max_leaf_nodes=28, min_samples_split=2;, score=0.856 total time=   0.0s\n",
            "[CV 1/3] END max_leaf_nodes=28, min_samples_split=10;, score=0.856 total time=   0.0s\n",
            "[CV 2/3] END max_leaf_nodes=28, min_samples_split=10;, score=0.841 total time=   0.0s\n",
            "[CV 3/3] END max_leaf_nodes=28, min_samples_split=10;, score=0.856 total time=   0.0s\n",
            "[CV 1/3] END max_leaf_nodes=30, min_samples_split=2;, score=0.856 total time=   0.1s\n",
            "[CV 2/3] END max_leaf_nodes=30, min_samples_split=2;, score=0.841 total time=   0.1s\n",
            "[CV 3/3] END max_leaf_nodes=30, min_samples_split=2;, score=0.854 total time=   0.1s\n",
            "[CV 1/3] END max_leaf_nodes=30, min_samples_split=10;, score=0.856 total time=   0.0s\n",
            "[CV 2/3] END max_leaf_nodes=30, min_samples_split=10;, score=0.841 total time=   0.0s\n",
            "[CV 3/3] END max_leaf_nodes=30, min_samples_split=10;, score=0.854 total time=   0.0s\n",
            "[CV 1/3] END max_leaf_nodes=33, min_samples_split=2;, score=0.854 total time=   0.0s\n",
            "[CV 2/3] END max_leaf_nodes=33, min_samples_split=2;, score=0.841 total time=   0.0s\n",
            "[CV 3/3] END max_leaf_nodes=33, min_samples_split=2;, score=0.854 total time=   0.1s\n",
            "[CV 1/3] END max_leaf_nodes=33, min_samples_split=10;, score=0.854 total time=   0.0s\n",
            "[CV 2/3] END max_leaf_nodes=33, min_samples_split=10;, score=0.841 total time=   0.0s\n",
            "[CV 3/3] END max_leaf_nodes=33, min_samples_split=10;, score=0.854 total time=   0.0s\n",
            "[CV 1/3] END max_leaf_nodes=35, min_samples_split=2;, score=0.853 total time=   0.1s\n",
            "[CV 2/3] END max_leaf_nodes=35, min_samples_split=2;, score=0.841 total time=   0.1s\n",
            "[CV 3/3] END max_leaf_nodes=35, min_samples_split=2;, score=0.851 total time=   0.0s\n",
            "[CV 1/3] END max_leaf_nodes=35, min_samples_split=10;, score=0.853 total time=   0.0s\n",
            "[CV 2/3] END max_leaf_nodes=35, min_samples_split=10;, score=0.841 total time=   0.0s\n",
            "[CV 3/3] END max_leaf_nodes=35, min_samples_split=10;, score=0.851 total time=   0.0s\n",
            "[CV 1/3] END max_leaf_nodes=38, min_samples_split=2;, score=0.852 total time=   0.0s\n",
            "[CV 2/3] END max_leaf_nodes=38, min_samples_split=2;, score=0.842 total time=   0.0s\n",
            "[CV 3/3] END max_leaf_nodes=38, min_samples_split=2;, score=0.846 total time=   0.0s\n",
            "[CV 1/3] END max_leaf_nodes=38, min_samples_split=10;, score=0.852 total time=   0.0s\n",
            "[CV 2/3] END max_leaf_nodes=38, min_samples_split=10;, score=0.842 total time=   0.0s\n",
            "[CV 3/3] END max_leaf_nodes=38, min_samples_split=10;, score=0.846 total time=   0.0s\n",
            "[CV 1/3] END max_leaf_nodes=40, min_samples_split=2;, score=0.852 total time=   0.0s\n",
            "[CV 2/3] END max_leaf_nodes=40, min_samples_split=2;, score=0.843 total time=   0.0s\n",
            "[CV 3/3] END max_leaf_nodes=40, min_samples_split=2;, score=0.846 total time=   0.0s\n",
            "[CV 1/3] END max_leaf_nodes=40, min_samples_split=10;, score=0.852 total time=   0.0s\n",
            "[CV 2/3] END max_leaf_nodes=40, min_samples_split=10;, score=0.843 total time=   0.0s\n",
            "[CV 3/3] END max_leaf_nodes=40, min_samples_split=10;, score=0.846 total time=   0.0s\n",
            "[CV 1/3] END max_leaf_nodes=42, min_samples_split=2;, score=0.852 total time=   0.0s\n",
            "[CV 2/3] END max_leaf_nodes=42, min_samples_split=2;, score=0.844 total time=   0.0s\n",
            "[CV 3/3] END max_leaf_nodes=42, min_samples_split=2;, score=0.843 total time=   0.0s\n",
            "[CV 1/3] END max_leaf_nodes=42, min_samples_split=10;, score=0.852 total time=   0.0s\n",
            "[CV 2/3] END max_leaf_nodes=42, min_samples_split=10;, score=0.844 total time=   0.0s\n",
            "[CV 3/3] END max_leaf_nodes=42, min_samples_split=10;, score=0.843 total time=   0.0s\n",
            "[CV 1/3] END max_leaf_nodes=45, min_samples_split=2;, score=0.849 total time=   0.0s\n",
            "[CV 2/3] END max_leaf_nodes=45, min_samples_split=2;, score=0.843 total time=   0.0s\n",
            "[CV 3/3] END max_leaf_nodes=45, min_samples_split=2;, score=0.842 total time=   0.0s\n",
            "[CV 1/3] END max_leaf_nodes=45, min_samples_split=10;, score=0.849 total time=   0.0s\n",
            "[CV 2/3] END max_leaf_nodes=45, min_samples_split=10;, score=0.843 total time=   0.0s\n",
            "[CV 3/3] END max_leaf_nodes=45, min_samples_split=10;, score=0.842 total time=   0.0s\n",
            "[CV 1/3] END max_leaf_nodes=47, min_samples_split=2;, score=0.849 total time=   0.0s\n",
            "[CV 2/3] END max_leaf_nodes=47, min_samples_split=2;, score=0.844 total time=   0.0s\n",
            "[CV 3/3] END max_leaf_nodes=47, min_samples_split=2;, score=0.850 total time=   0.0s\n",
            "[CV 1/3] END max_leaf_nodes=47, min_samples_split=10;, score=0.849 total time=   0.0s\n",
            "[CV 2/3] END max_leaf_nodes=47, min_samples_split=10;, score=0.844 total time=   0.0s\n",
            "[CV 3/3] END max_leaf_nodes=47, min_samples_split=10;, score=0.842 total time=   0.0s\n",
            "[CV 1/3] END max_leaf_nodes=50, min_samples_split=2;, score=0.848 total time=   0.0s\n",
            "[CV 2/3] END max_leaf_nodes=50, min_samples_split=2;, score=0.844 total time=   0.0s\n",
            "[CV 3/3] END max_leaf_nodes=50, min_samples_split=2;, score=0.842 total time=   0.0s\n",
            "[CV 1/3] END max_leaf_nodes=50, min_samples_split=10;, score=0.848 total time=   0.0s\n",
            "[CV 2/3] END max_leaf_nodes=50, min_samples_split=10;, score=0.844 total time=   0.0s\n",
            "[CV 3/3] END max_leaf_nodes=50, min_samples_split=10;, score=0.842 total time=   0.0s\n",
            "[CV 1/3] END max_leaf_nodes=52, min_samples_split=2;, score=0.844 total time=   0.0s\n",
            "[CV 2/3] END max_leaf_nodes=52, min_samples_split=2;, score=0.843 total time=   0.0s\n",
            "[CV 3/3] END max_leaf_nodes=52, min_samples_split=2;, score=0.842 total time=   0.0s\n",
            "[CV 1/3] END max_leaf_nodes=52, min_samples_split=10;, score=0.844 total time=   0.0s\n",
            "[CV 2/3] END max_leaf_nodes=52, min_samples_split=10;, score=0.843 total time=   0.0s\n",
            "[CV 3/3] END max_leaf_nodes=52, min_samples_split=10;, score=0.842 total time=   0.0s\n",
            "[CV 1/3] END max_leaf_nodes=54, min_samples_split=2;, score=0.845 total time=   0.0s\n",
            "[CV 2/3] END max_leaf_nodes=54, min_samples_split=2;, score=0.843 total time=   0.0s\n",
            "[CV 3/3] END max_leaf_nodes=54, min_samples_split=2;, score=0.842 total time=   0.0s\n",
            "[CV 1/3] END max_leaf_nodes=54, min_samples_split=10;, score=0.845 total time=   0.0s\n",
            "[CV 2/3] END max_leaf_nodes=54, min_samples_split=10;, score=0.844 total time=   0.0s\n",
            "[CV 3/3] END max_leaf_nodes=54, min_samples_split=10;, score=0.842 total time=   0.0s\n",
            "[CV 1/3] END max_leaf_nodes=57, min_samples_split=2;, score=0.844 total time=   0.0s\n",
            "[CV 2/3] END max_leaf_nodes=57, min_samples_split=2;, score=0.843 total time=   0.0s\n",
            "[CV 3/3] END max_leaf_nodes=57, min_samples_split=2;, score=0.841 total time=   0.0s\n",
            "[CV 1/3] END max_leaf_nodes=57, min_samples_split=10;, score=0.844 total time=   0.0s\n",
            "[CV 2/3] END max_leaf_nodes=57, min_samples_split=10;, score=0.844 total time=   0.0s\n",
            "[CV 3/3] END max_leaf_nodes=57, min_samples_split=10;, score=0.842 total time=   0.0s\n",
            "[CV 1/3] END max_leaf_nodes=59, min_samples_split=2;, score=0.848 total time=   0.0s\n",
            "[CV 2/3] END max_leaf_nodes=59, min_samples_split=2;, score=0.843 total time=   0.0s\n",
            "[CV 3/3] END max_leaf_nodes=59, min_samples_split=2;, score=0.841 total time=   0.0s\n",
            "[CV 1/3] END max_leaf_nodes=59, min_samples_split=10;, score=0.848 total time=   0.0s\n",
            "[CV 2/3] END max_leaf_nodes=59, min_samples_split=10;, score=0.843 total time=   0.0s\n",
            "[CV 3/3] END max_leaf_nodes=59, min_samples_split=10;, score=0.841 total time=   0.0s\n",
            "[CV 1/3] END max_leaf_nodes=62, min_samples_split=2;, score=0.852 total time=   0.0s\n",
            "[CV 2/3] END max_leaf_nodes=62, min_samples_split=2;, score=0.843 total time=   0.0s\n",
            "[CV 3/3] END max_leaf_nodes=62, min_samples_split=2;, score=0.840 total time=   0.0s\n",
            "[CV 1/3] END max_leaf_nodes=62, min_samples_split=10;, score=0.852 total time=   0.0s\n",
            "[CV 2/3] END max_leaf_nodes=62, min_samples_split=10;, score=0.843 total time=   0.0s\n",
            "[CV 3/3] END max_leaf_nodes=62, min_samples_split=10;, score=0.840 total time=   0.0s\n",
            "[CV 1/3] END max_leaf_nodes=64, min_samples_split=2;, score=0.849 total time=   0.0s\n",
            "[CV 2/3] END max_leaf_nodes=64, min_samples_split=2;, score=0.843 total time=   0.0s\n",
            "[CV 3/3] END max_leaf_nodes=64, min_samples_split=2;, score=0.840 total time=   0.0s\n",
            "[CV 1/3] END max_leaf_nodes=64, min_samples_split=10;, score=0.849 total time=   0.0s\n",
            "[CV 2/3] END max_leaf_nodes=64, min_samples_split=10;, score=0.843 total time=   0.0s\n",
            "[CV 3/3] END max_leaf_nodes=64, min_samples_split=10;, score=0.839 total time=   0.0s\n",
            "[CV 1/3] END max_leaf_nodes=67, min_samples_split=2;, score=0.849 total time=   0.0s\n",
            "[CV 2/3] END max_leaf_nodes=67, min_samples_split=2;, score=0.846 total time=   0.0s\n",
            "[CV 3/3] END max_leaf_nodes=67, min_samples_split=2;, score=0.840 total time=   0.0s\n",
            "[CV 1/3] END max_leaf_nodes=67, min_samples_split=10;, score=0.849 total time=   0.0s\n",
            "[CV 2/3] END max_leaf_nodes=67, min_samples_split=10;, score=0.846 total time=   0.0s\n",
            "[CV 3/3] END max_leaf_nodes=67, min_samples_split=10;, score=0.839 total time=   0.0s\n",
            "[CV 1/3] END max_leaf_nodes=69, min_samples_split=2;, score=0.849 total time=   0.0s\n",
            "[CV 2/3] END max_leaf_nodes=69, min_samples_split=2;, score=0.846 total time=   0.0s\n",
            "[CV 3/3] END max_leaf_nodes=69, min_samples_split=2;, score=0.840 total time=   0.0s\n",
            "[CV 1/3] END max_leaf_nodes=69, min_samples_split=10;, score=0.849 total time=   0.0s\n",
            "[CV 2/3] END max_leaf_nodes=69, min_samples_split=10;, score=0.845 total time=   0.0s\n",
            "[CV 3/3] END max_leaf_nodes=69, min_samples_split=10;, score=0.840 total time=   0.0s\n",
            "[CV 1/3] END max_leaf_nodes=71, min_samples_split=2;, score=0.849 total time=   0.0s\n",
            "[CV 2/3] END max_leaf_nodes=71, min_samples_split=2;, score=0.845 total time=   0.0s\n",
            "[CV 3/3] END max_leaf_nodes=71, min_samples_split=2;, score=0.839 total time=   0.0s\n",
            "[CV 1/3] END max_leaf_nodes=71, min_samples_split=10;, score=0.849 total time=   0.0s\n",
            "[CV 2/3] END max_leaf_nodes=71, min_samples_split=10;, score=0.845 total time=   0.0s\n",
            "[CV 3/3] END max_leaf_nodes=71, min_samples_split=10;, score=0.840 total time=   0.0s\n",
            "[CV 1/3] END max_leaf_nodes=74, min_samples_split=2;, score=0.850 total time=   0.0s\n",
            "[CV 2/3] END max_leaf_nodes=74, min_samples_split=2;, score=0.843 total time=   0.0s\n",
            "[CV 3/3] END max_leaf_nodes=74, min_samples_split=2;, score=0.839 total time=   0.0s\n",
            "[CV 1/3] END max_leaf_nodes=74, min_samples_split=10;, score=0.850 total time=   0.0s\n",
            "[CV 2/3] END max_leaf_nodes=74, min_samples_split=10;, score=0.843 total time=   0.0s\n",
            "[CV 3/3] END max_leaf_nodes=74, min_samples_split=10;, score=0.840 total time=   0.0s\n",
            "[CV 1/3] END max_leaf_nodes=76, min_samples_split=2;, score=0.850 total time=   0.0s\n",
            "[CV 2/3] END max_leaf_nodes=76, min_samples_split=2;, score=0.843 total time=   0.0s\n",
            "[CV 3/3] END max_leaf_nodes=76, min_samples_split=2;, score=0.840 total time=   0.0s\n",
            "[CV 1/3] END max_leaf_nodes=76, min_samples_split=10;, score=0.850 total time=   0.0s\n",
            "[CV 2/3] END max_leaf_nodes=76, min_samples_split=10;, score=0.843 total time=   0.0s\n",
            "[CV 3/3] END max_leaf_nodes=76, min_samples_split=10;, score=0.839 total time=   0.0s\n",
            "[CV 1/3] END max_leaf_nodes=79, min_samples_split=2;, score=0.850 total time=   0.0s\n",
            "[CV 2/3] END max_leaf_nodes=79, min_samples_split=2;, score=0.843 total time=   0.0s\n",
            "[CV 3/3] END max_leaf_nodes=79, min_samples_split=2;, score=0.840 total time=   0.0s\n",
            "[CV 1/3] END max_leaf_nodes=79, min_samples_split=10;, score=0.847 total time=   0.0s\n",
            "[CV 2/3] END max_leaf_nodes=79, min_samples_split=10;, score=0.843 total time=   0.0s\n",
            "[CV 3/3] END max_leaf_nodes=79, min_samples_split=10;, score=0.839 total time=   0.0s\n",
            "[CV 1/3] END max_leaf_nodes=81, min_samples_split=2;, score=0.850 total time=   0.0s\n",
            "[CV 2/3] END max_leaf_nodes=81, min_samples_split=2;, score=0.843 total time=   0.0s\n",
            "[CV 3/3] END max_leaf_nodes=81, min_samples_split=2;, score=0.840 total time=   0.0s\n",
            "[CV 1/3] END max_leaf_nodes=81, min_samples_split=10;, score=0.848 total time=   0.0s\n",
            "[CV 2/3] END max_leaf_nodes=81, min_samples_split=10;, score=0.843 total time=   0.0s\n",
            "[CV 3/3] END max_leaf_nodes=81, min_samples_split=10;, score=0.841 total time=   0.0s\n",
            "[CV 1/3] END max_leaf_nodes=83, min_samples_split=2;, score=0.849 total time=   0.0s\n",
            "[CV 2/3] END max_leaf_nodes=83, min_samples_split=2;, score=0.843 total time=   0.0s\n",
            "[CV 3/3] END max_leaf_nodes=83, min_samples_split=2;, score=0.839 total time=   0.0s\n",
            "[CV 1/3] END max_leaf_nodes=83, min_samples_split=10;, score=0.848 total time=   0.0s\n",
            "[CV 2/3] END max_leaf_nodes=83, min_samples_split=10;, score=0.843 total time=   0.0s\n",
            "[CV 3/3] END max_leaf_nodes=83, min_samples_split=10;, score=0.840 total time=   0.0s\n",
            "[CV 1/3] END max_leaf_nodes=86, min_samples_split=2;, score=0.849 total time=   0.0s\n",
            "[CV 2/3] END max_leaf_nodes=86, min_samples_split=2;, score=0.843 total time=   0.0s\n",
            "[CV 3/3] END max_leaf_nodes=86, min_samples_split=2;, score=0.839 total time=   0.0s\n",
            "[CV 1/3] END max_leaf_nodes=86, min_samples_split=10;, score=0.849 total time=   0.0s\n",
            "[CV 2/3] END max_leaf_nodes=86, min_samples_split=10;, score=0.843 total time=   0.0s\n",
            "[CV 3/3] END max_leaf_nodes=86, min_samples_split=10;, score=0.840 total time=   0.0s\n",
            "[CV 1/3] END max_leaf_nodes=88, min_samples_split=2;, score=0.849 total time=   0.0s\n",
            "[CV 2/3] END max_leaf_nodes=88, min_samples_split=2;, score=0.843 total time=   0.0s\n",
            "[CV 3/3] END max_leaf_nodes=88, min_samples_split=2;, score=0.840 total time=   0.0s\n",
            "[CV 1/3] END max_leaf_nodes=88, min_samples_split=10;, score=0.850 total time=   0.0s\n",
            "[CV 2/3] END max_leaf_nodes=88, min_samples_split=10;, score=0.842 total time=   0.0s\n",
            "[CV 3/3] END max_leaf_nodes=88, min_samples_split=10;, score=0.840 total time=   0.0s\n",
            "[CV 1/3] END max_leaf_nodes=91, min_samples_split=2;, score=0.850 total time=   0.0s\n",
            "[CV 2/3] END max_leaf_nodes=91, min_samples_split=2;, score=0.842 total time=   0.0s\n",
            "[CV 3/3] END max_leaf_nodes=91, min_samples_split=2;, score=0.840 total time=   0.0s\n",
            "[CV 1/3] END max_leaf_nodes=91, min_samples_split=10;, score=0.850 total time=   0.0s\n",
            "[CV 2/3] END max_leaf_nodes=91, min_samples_split=10;, score=0.841 total time=   0.0s\n",
            "[CV 3/3] END max_leaf_nodes=91, min_samples_split=10;, score=0.838 total time=   0.0s\n",
            "[CV 1/3] END max_leaf_nodes=93, min_samples_split=2;, score=0.849 total time=   0.0s\n",
            "[CV 2/3] END max_leaf_nodes=93, min_samples_split=2;, score=0.842 total time=   0.0s\n",
            "[CV 3/3] END max_leaf_nodes=93, min_samples_split=2;, score=0.842 total time=   0.0s\n",
            "[CV 1/3] END max_leaf_nodes=93, min_samples_split=10;, score=0.850 total time=   0.0s\n",
            "[CV 2/3] END max_leaf_nodes=93, min_samples_split=10;, score=0.841 total time=   0.0s\n",
            "[CV 3/3] END max_leaf_nodes=93, min_samples_split=10;, score=0.838 total time=   0.0s\n",
            "[CV 1/3] END max_leaf_nodes=95, min_samples_split=2;, score=0.852 total time=   0.0s\n",
            "[CV 2/3] END max_leaf_nodes=95, min_samples_split=2;, score=0.841 total time=   0.0s\n",
            "[CV 3/3] END max_leaf_nodes=95, min_samples_split=2;, score=0.840 total time=   0.0s\n",
            "[CV 1/3] END max_leaf_nodes=95, min_samples_split=10;, score=0.850 total time=   0.0s\n",
            "[CV 2/3] END max_leaf_nodes=95, min_samples_split=10;, score=0.840 total time=   0.0s\n",
            "[CV 3/3] END max_leaf_nodes=95, min_samples_split=10;, score=0.838 total time=   0.0s\n",
            "[CV 1/3] END max_leaf_nodes=98, min_samples_split=2;, score=0.852 total time=   0.0s\n",
            "[CV 2/3] END max_leaf_nodes=98, min_samples_split=2;, score=0.841 total time=   0.0s\n",
            "[CV 3/3] END max_leaf_nodes=98, min_samples_split=2;, score=0.840 total time=   0.0s\n",
            "[CV 1/3] END max_leaf_nodes=98, min_samples_split=10;, score=0.849 total time=   0.0s\n",
            "[CV 2/3] END max_leaf_nodes=98, min_samples_split=10;, score=0.840 total time=   0.0s\n",
            "[CV 3/3] END max_leaf_nodes=98, min_samples_split=10;, score=0.842 total time=   0.0s\n",
            "[CV 1/3] END max_leaf_nodes=100, min_samples_split=2;, score=0.852 total time=   0.0s\n",
            "[CV 2/3] END max_leaf_nodes=100, min_samples_split=2;, score=0.838 total time=   0.0s\n",
            "[CV 3/3] END max_leaf_nodes=100, min_samples_split=2;, score=0.840 total time=   0.0s\n",
            "[CV 1/3] END max_leaf_nodes=100, min_samples_split=10;, score=0.847 total time=   0.0s\n",
            "[CV 2/3] END max_leaf_nodes=100, min_samples_split=10;, score=0.840 total time=   0.0s\n",
            "[CV 3/3] END max_leaf_nodes=100, min_samples_split=10;, score=0.840 total time=   0.0s\n",
            "[CV 1/3] END max_leaf_nodes=103, min_samples_split=2;, score=0.852 total time=   0.0s\n",
            "[CV 2/3] END max_leaf_nodes=103, min_samples_split=2;, score=0.839 total time=   0.0s\n",
            "[CV 3/3] END max_leaf_nodes=103, min_samples_split=2;, score=0.838 total time=   0.0s\n",
            "[CV 1/3] END max_leaf_nodes=103, min_samples_split=10;, score=0.846 total time=   0.0s\n",
            "[CV 2/3] END max_leaf_nodes=103, min_samples_split=10;, score=0.840 total time=   0.0s\n",
            "[CV 3/3] END max_leaf_nodes=103, min_samples_split=10;, score=0.840 total time=   0.0s\n",
            "[CV 1/3] END max_leaf_nodes=105, min_samples_split=2;, score=0.850 total time=   0.0s\n",
            "[CV 2/3] END max_leaf_nodes=105, min_samples_split=2;, score=0.838 total time=   0.0s\n",
            "[CV 3/3] END max_leaf_nodes=105, min_samples_split=2;, score=0.838 total time=   0.0s\n",
            "[CV 1/3] END max_leaf_nodes=105, min_samples_split=10;, score=0.846 total time=   0.0s\n",
            "[CV 2/3] END max_leaf_nodes=105, min_samples_split=10;, score=0.839 total time=   0.0s\n",
            "[CV 3/3] END max_leaf_nodes=105, min_samples_split=10;, score=0.840 total time=   0.0s\n",
            "[CV 1/3] END max_leaf_nodes=107, min_samples_split=2;, score=0.849 total time=   0.0s\n",
            "[CV 2/3] END max_leaf_nodes=107, min_samples_split=2;, score=0.840 total time=   0.0s\n",
            "[CV 3/3] END max_leaf_nodes=107, min_samples_split=2;, score=0.838 total time=   0.0s\n",
            "[CV 1/3] END max_leaf_nodes=107, min_samples_split=10;, score=0.844 total time=   0.0s\n",
            "[CV 2/3] END max_leaf_nodes=107, min_samples_split=10;, score=0.839 total time=   0.0s\n",
            "[CV 3/3] END max_leaf_nodes=107, min_samples_split=10;, score=0.839 total time=   0.0s\n",
            "[CV 1/3] END max_leaf_nodes=110, min_samples_split=2;, score=0.849 total time=   0.0s\n",
            "[CV 2/3] END max_leaf_nodes=110, min_samples_split=2;, score=0.840 total time=   0.0s\n",
            "[CV 3/3] END max_leaf_nodes=110, min_samples_split=2;, score=0.838 total time=   0.0s\n",
            "[CV 1/3] END max_leaf_nodes=110, min_samples_split=10;, score=0.844 total time=   0.0s\n",
            "[CV 2/3] END max_leaf_nodes=110, min_samples_split=10;, score=0.838 total time=   0.0s\n",
            "[CV 3/3] END max_leaf_nodes=110, min_samples_split=10;, score=0.839 total time=   0.0s\n",
            "[CV 1/3] END max_leaf_nodes=112, min_samples_split=2;, score=0.848 total time=   0.0s\n",
            "[CV 2/3] END max_leaf_nodes=112, min_samples_split=2;, score=0.840 total time=   0.0s\n",
            "[CV 3/3] END max_leaf_nodes=112, min_samples_split=2;, score=0.841 total time=   0.0s\n",
            "[CV 1/3] END max_leaf_nodes=112, min_samples_split=10;, score=0.842 total time=   0.0s\n",
            "[CV 2/3] END max_leaf_nodes=112, min_samples_split=10;, score=0.838 total time=   0.0s\n",
            "[CV 3/3] END max_leaf_nodes=112, min_samples_split=10;, score=0.841 total time=   0.0s\n",
            "[CV 1/3] END max_leaf_nodes=115, min_samples_split=2;, score=0.849 total time=   0.0s\n",
            "[CV 2/3] END max_leaf_nodes=115, min_samples_split=2;, score=0.838 total time=   0.0s\n",
            "[CV 3/3] END max_leaf_nodes=115, min_samples_split=2;, score=0.841 total time=   0.0s\n",
            "[CV 1/3] END max_leaf_nodes=115, min_samples_split=10;, score=0.841 total time=   0.0s\n",
            "[CV 2/3] END max_leaf_nodes=115, min_samples_split=10;, score=0.838 total time=   0.0s\n",
            "[CV 3/3] END max_leaf_nodes=115, min_samples_split=10;, score=0.841 total time=   0.0s\n",
            "[CV 1/3] END max_leaf_nodes=117, min_samples_split=2;, score=0.846 total time=   0.0s\n",
            "[CV 2/3] END max_leaf_nodes=117, min_samples_split=2;, score=0.838 total time=   0.0s\n",
            "[CV 3/3] END max_leaf_nodes=117, min_samples_split=2;, score=0.839 total time=   0.0s\n",
            "[CV 1/3] END max_leaf_nodes=117, min_samples_split=10;, score=0.841 total time=   0.0s\n",
            "[CV 2/3] END max_leaf_nodes=117, min_samples_split=10;, score=0.838 total time=   0.0s\n",
            "[CV 3/3] END max_leaf_nodes=117, min_samples_split=10;, score=0.841 total time=   0.0s\n",
            "[CV 1/3] END max_leaf_nodes=120, min_samples_split=2;, score=0.846 total time=   0.0s\n",
            "[CV 2/3] END max_leaf_nodes=120, min_samples_split=2;, score=0.837 total time=   0.0s\n",
            "[CV 3/3] END max_leaf_nodes=120, min_samples_split=2;, score=0.839 total time=   0.0s\n",
            "[CV 1/3] END max_leaf_nodes=120, min_samples_split=10;, score=0.841 total time=   0.0s\n",
            "[CV 2/3] END max_leaf_nodes=120, min_samples_split=10;, score=0.838 total time=   0.0s\n",
            "[CV 3/3] END max_leaf_nodes=120, min_samples_split=10;, score=0.841 total time=   0.0s\n"
          ]
        },
        {
          "output_type": "execute_result",
          "data": {
            "text/plain": [
              "GridSearchCV(cv=3, estimator=DecisionTreeClassifier(random_state=42),\n",
              "             param_grid={'max_leaf_nodes': array([  2,   4,   6,   9,  11,  14,  16,  18,  21,  23,  26,  28,  30,\n",
              "        33,  35,  38,  40,  42,  45,  47,  50,  52,  54,  57,  59,  62,\n",
              "        64,  67,  69,  71,  74,  76,  79,  81,  83,  86,  88,  91,  93,\n",
              "        95,  98, 100, 103, 105, 107, 110, 112, 115, 117, 120]),\n",
              "                         'min_samples_split': [2, 10]},\n",
              "             verbose=5)"
            ]
          },
          "metadata": {},
          "execution_count": 56
        }
      ]
    },
    {
      "cell_type": "code",
      "source": [
        "gsc_tree.best_estimator_"
      ],
      "metadata": {
        "colab": {
          "base_uri": "https://localhost:8080/"
        },
        "id": "yXgL16FKg-JS",
        "outputId": "d76dc3f0-b30c-4ed9-c4a0-964eef6d6a7f"
      },
      "execution_count": null,
      "outputs": [
        {
          "output_type": "execute_result",
          "data": {
            "text/plain": [
              "DecisionTreeClassifier(max_leaf_nodes=4, random_state=42)"
            ]
          },
          "metadata": {},
          "execution_count": 51
        }
      ]
    },
    {
      "cell_type": "code",
      "source": [
        "y_pred_train = gsc_tree.predict(X_train)\n",
        "y_pred_test = gsc_tree.predict(X_test)"
      ],
      "metadata": {
        "id": "KFvG77VrhFM9"
      },
      "execution_count": null,
      "outputs": []
    },
    {
      "cell_type": "code",
      "source": [
        "from sklearn.metrics import accuracy_score\n",
        "print(f'Accuracy over training set: {(accuracy_score(y_train,y_pred_train)):.2%} \\n' \n",
        "f'Accuracy over test set: {(accuracy_score(y_test,y_pred_test)):.2%}')"
      ],
      "metadata": {
        "colab": {
          "base_uri": "https://localhost:8080/"
        },
        "id": "IbaEaD7GhIUo",
        "outputId": "00467b6b-c90c-4271-82ff-873384b62cf9"
      },
      "execution_count": null,
      "outputs": [
        {
          "output_type": "stream",
          "name": "stdout",
          "text": [
            "Accuracy over training set: 85.82% \n",
            "Accuracy over test set: 86.20%\n"
          ]
        }
      ]
    },
    {
      "cell_type": "code",
      "source": [
        "corr_X,wrong_X = [],[]\n",
        "for indx,obj in enumerate(y_pred_test): # Pull out predictions on each data points one-by-one\n",
        "  if  obj != y_test[indx,]: # If the predictions is not equal to output truth (y_test)\n",
        "    wrong_X.append(indx) # Model made an error\n",
        "  else:\n",
        "    corr_X.append(indx) # Model correct prediction"
      ],
      "metadata": {
        "id": "55UTSYKOiApi"
      },
      "execution_count": null,
      "outputs": []
    },
    {
      "cell_type": "code",
      "source": [
        "# Recycle the visualization scripts earlier \n",
        "fig,ax = plt.subplots(1,1,figsize=(5,4))\n",
        "##############################################################################################################################\n",
        "# 1. Plot correct prediction here\n",
        "##############################################################################################################################\n",
        "scatter_corr = ax.scatter(X_test[corr_X, 0], X_test[corr_X,1],s=10,color='k',edgecolor='w',linewidths=0.5,alpha=0.5)\n",
        "##############################################################################################################################\n",
        "# 2. Plot wrong prediction here\n",
        "##############################################################################################################################\n",
        "scatter_wrong = ax.scatter(X_test[wrong_X, 0], X_test[wrong_X,1],s=10,color='r',edgecolor='w',linewidths=0.5,alpha=0.5)\n",
        "##############################################################################################################################\n",
        "# 3. Title etc.\n",
        "##############################################################################################################################\n",
        "ax.set_title('Discharge (km3)')\n",
        "ax.tick_params(axis='both', which='major', labelsize=11)\n",
        "ax.grid(alpha=0.2,ls='--',lw=1)\n",
        "plt.show()"
      ],
      "metadata": {
        "colab": {
          "base_uri": "https://localhost:8080/",
          "height": 281
        },
        "id": "hVe5NyVRiCOL",
        "outputId": "3697f9eb-0e6c-46cb-bae5-e330db902bd3"
      },
      "execution_count": null,
      "outputs": [
        {
          "output_type": "display_data",
          "data": {
            "text/plain": [
              "<Figure size 360x288 with 1 Axes>"
            ],
            "image/png": "[encoded data removed]"
          },
          "metadata": {
            "needs_background": "light"
          }
        }
      ]
    }
  ]
}